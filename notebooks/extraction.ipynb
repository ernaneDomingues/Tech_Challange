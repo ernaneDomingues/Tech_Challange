{
 "cells": [
  {
   "cell_type": "code",
   "execution_count": null,
   "metadata": {},
   "outputs": [],
   "source": [
    "import requests\n",
    "from bs4 import BeautifulSoup\n",
    "import pandas as pd\n",
    "from datetime import datetime"
   ]
  },
  {
   "cell_type": "code",
   "execution_count": null,
   "metadata": {},
   "outputs": [],
   "source": [
    "# Lista de anos de 1970 até 2023\n",
    "years = list(range(1970, 2023 + 1))"
   ]
  },
  {
   "cell_type": "code",
   "execution_count": null,
   "metadata": {},
   "outputs": [],
   "source": [
    "# URLs base para cada tipo de tabela\n",
    "url_templates = [\n",
    "    \"http://vitibrasil.cnpuv.embrapa.br/index.php?ano={year}&opcao=opt_02\",\n",
    "    \"http://vitibrasil.cnpuv.embrapa.br/index.php?ano={year}&opcao=opt_03&subopcao=subopt_01\",\n",
    "    \"http://vitibrasil.cnpuv.embrapa.br/index.php?ano={year}&opcao=opt_03&subopcao=subopt_02\",\n",
    "    \"http://vitibrasil.cnpuv.embrapa.br/index.php?ano={year}&opcao=opt_03&subopcao=subopt_03\",\n",
    "    \"http://vitibrasil.cnpuv.embrapa.br/index.php?ano={year}&opcao=opt_03&subopcao=subopt_04\",\n",
    "    \"http://vitibrasil.cnpuv.embrapa.br/index.php?ano={year}&opcao=opt_04\",\n",
    "    \"http://vitibrasil.cnpuv.embrapa.br/index.php?ano={year}&opcao=opt_05&subopcao=subopt_01\",\n",
    "    \"http://vitibrasil.cnpuv.embrapa.br/index.php?ano={year}&opcao=opt_05&subopcao=subopt_02\",\n",
    "    \"http://vitibrasil.cnpuv.embrapa.br/index.php?ano={year}&opcao=opt_05&subopcao=subopt_03\",\n",
    "    \"http://vitibrasil.cnpuv.embrapa.br/index.php?ano={year}&opcao=opt_05&subopcao=subopt_04\",\n",
    "    \"http://vitibrasil.cnpuv.embrapa.br/index.php?ano={year}&opcao=opt_05&subopcao=subopt_05\",\n",
    "    \"http://vitibrasil.cnpuv.embrapa.br/index.php?ano={year}&opcao=opt_06&subopcao=subopt_01\",\n",
    "    \"http://vitibrasil.cnpuv.embrapa.br/index.php?ano={year}&opcao=opt_06&subopcao=subopt_02\",\n",
    "    \"http://vitibrasil.cnpuv.embrapa.br/index.php?ano={year}&opcao=opt_06&subopcao=subopt_03\",\n",
    "    \"http://vitibrasil.cnpuv.embrapa.br/index.php?ano={year}&opcao=opt_06&subopcao=subopt_04\"\n",
    "]"
   ]
  },
  {
   "cell_type": "code",
   "execution_count": null,
   "metadata": {},
   "outputs": [],
   "source": [
    "# Inicializando um DataFrame vazio para armazenar todos os dados\n",
    "all_data = pd.DataFrame()"
   ]
  },
  {
   "cell_type": "code",
   "execution_count": null,
   "metadata": {},
   "outputs": [],
   "source": [
    "# Função para extrair dados da tabela de um ano específico\n",
    "def extract_table_data(url, year):\n",
    "    response = requests.get(url)\n",
    "    response.raise_for_status()\n",
    "    \n",
    "    soup = BeautifulSoup(response.text, 'html.parser')\n",
    "    table = soup.find('table', class_='tb_base tb_dados')\n",
    "    \n",
    "    headers = [header.text.strip() for header in table.find_all('th')]\n",
    "    rows = []\n",
    "    for row in table.find_all('tr')[1:]:  # Ignora o cabeçalho\n",
    "        cells = row.find_all('td')\n",
    "        cells = [cell.text.strip() for cell in cells]\n",
    "        rows.append(cells)\n",
    "    \n",
    "    df = pd.DataFrame(rows, columns=headers)\n",
    "    df['Ano'] = year  # Adiciona uma coluna com o ano\n",
    "    return df"
   ]
  },
  {
   "cell_type": "code",
   "execution_count": null,
   "metadata": {},
   "outputs": [],
   "source": [
    "# Extraindo dados de cada ano e concatenando ao DataFrame principal\n",
    "def extract_table_all_data(url):\n",
    "    all_data = pd.DataFrame()\n",
    "    for year in years:\n",
    "        try:\n",
    "            url_year = url.format(year=year)\n",
    "            year_data = extract_table_data(url_year, year)\n",
    "            all_data = pd.concat([all_data, year_data], ignore_index=True)\n",
    "            print(f\"Dados do ano {year} extraídos com sucesso.\")\n",
    "        except Exception as e:\n",
    "            print(f\"Erro ao extrair dados do ano {year}: {e}\")\n",
    "    return all_data"
   ]
  },
  {
   "cell_type": "code",
   "execution_count": null,
   "metadata": {},
   "outputs": [],
   "source": [
    "all_data = extract_table_all_data(url_templates[11])"
   ]
  },
  {
   "cell_type": "code",
   "execution_count": null,
   "metadata": {},
   "outputs": [],
   "source": [
    "all_data"
   ]
  },
  {
   "cell_type": "code",
   "execution_count": null,
   "metadata": {},
   "outputs": [],
   "source": [
    "\n",
    "# Converter colunas de quantidade e valor para numérico (tratando '-' como NaN)\n",
    "all_data['Quantidade (Kg)'] = pd.to_numeric(all_data['Quantidade (Kg)'], errors='coerce')\n",
    "all_data['Valor (US$)'] = pd.to_numeric(all_data['Valor (US$)'], errors='coerce')\n",
    "\n",
    "# Pivotar a tabela para que os anos fiquem como índices\n",
    "df_pivot = all_data.pivot_table(index='Ano', columns='Países', values=['Quantidade (Kg)', 'Valor (US$)'], aggfunc='sum')\n",
    "\n",
    "# Flatten the multi-level columns\n",
    "df_pivot.columns = ['_'.join(col).strip() for col in df_pivot.columns.values]\n",
    "df_pivot.reset_index(inplace=True)\n",
    "\n",
    "# Exibir o DataFrame resultante\n",
    "df_pivot"
   ]
  },
  {
   "cell_type": "code",
   "execution_count": null,
   "metadata": {},
   "outputs": [],
   "source": [
    "# Convertendo a coluna 'Quantidade (L.)' para numérica (se possível)\n",
    "all_data['Quantidade (L.)'] = pd.to_numeric(all_data['Quantidade (L.)'].str.replace('.', ''), errors='coerce')"
   ]
  },
  {
   "cell_type": "code",
   "execution_count": null,
   "metadata": {},
   "outputs": [],
   "source": [
    "# Agrupando por 'Produto' e 'Ano' e somando as quantidades\n",
    "all_data_grouped = all_data.groupby(['Produto', 'Ano'])['Quantidade (L.)'].sum().reset_index()"
   ]
  },
  {
   "cell_type": "code",
   "execution_count": null,
   "metadata": {},
   "outputs": [],
   "source": [
    "# Transformando as linhas em colunas\n",
    "pivot_df = all_data_grouped.pivot(index='Ano', columns='Produto', values='Quantidade (L.)').reset_index()"
   ]
  },
  {
   "cell_type": "code",
   "execution_count": null,
   "metadata": {},
   "outputs": [],
   "source": [
    "pivot_df"
   ]
  },
  {
   "cell_type": "code",
   "execution_count": null,
   "metadata": {},
   "outputs": [],
   "source": [
    "import json"
   ]
  },
  {
   "cell_type": "code",
   "execution_count": null,
   "metadata": {},
   "outputs": [],
   "source": [
    "# Filtrar o DataFrame para o ano de 2022\n",
    "df_2022 = pivot_df[pivot_df['Ano'] == 2022]\n",
    "\n",
    "# Converter para JSON\n",
    "json_2022 = df_2022.to_json(orient='records')\n",
    "print(json_2022)"
   ]
  },
  {
   "cell_type": "code",
   "execution_count": null,
   "metadata": {},
   "outputs": [],
   "source": [
    "# Filtrar o DataFrame para o intervalo de anos de 2020 a 2022\n",
    "df_intervalo = pivot_df[(pivot_df['Ano'] >= 2020) & (pivot_df['Ano'] <= 2022)]\n",
    "\n",
    "# Converter para JSON\n",
    "json_intervalo = df_intervalo.to_json(orient='records')\n",
    "print(json_intervalo)"
   ]
  },
  {
   "cell_type": "code",
   "execution_count": null,
   "metadata": {},
   "outputs": [],
   "source": [
    "import requests\n",
    "from bs4 import BeautifulSoup\n",
    "\n",
    "def get_table_headers(url):\n",
    "    # Faz a requisição para o URL\n",
    "    response = requests.get(url)\n",
    "    # Cria o objeto BeautifulSoup\n",
    "    soup = BeautifulSoup(response.content, 'html.parser')\n",
    "    # Encontra a tabela pela classe\n",
    "    table = soup.find('table', class_='tb_base tb_dados')\n",
    "    # Encontra o cabeçalho da tabela\n",
    "    headers = table.find('thead').find_all('th')\n",
    "    # Extrai o texto dos cabeçalhos\n",
    "    header_values = [header.text.strip() for header in headers]\n",
    "    return header_values\n",
    "\n",
    "# Exemplo de uso\n",
    "url = 'http://vitibrasil.cnpuv.embrapa.br/index.php?opcao=opt_06'\n",
    "headers = get_table_headers(url)\n",
    "print(headers)\n",
    "\n",
    "# Loop para realizar operações em cada URL gerada para cada ano\n",
    "for url in url_templates:\n",
    "    url = url.format(year=2023)\n",
    "    headers = get_table_headers(url)\n",
    "    print(headers)\n",
    "    "
   ]
  },
  {
   "cell_type": "code",
   "execution_count": null,
   "metadata": {},
   "outputs": [],
   "source": [
    "import requests\n",
    "from bs4 import BeautifulSoup\n",
    "import pandas as pd\n",
    "from datetime import datetime"
   ]
  },
  {
   "cell_type": "code",
   "execution_count": null,
   "metadata": {},
   "outputs": [],
   "source": [
    "# Função para extrair dados de uma tabela específica\n",
    "def extract_table_data(year):\n",
    "    url = f'http://vitibrasil.cnpuv.embrapa.br/index.php?ano={year}&opcao=opt_02'\n",
    "    response = requests.get(url)\n",
    "    soup = BeautifulSoup(response.content, 'html.parser')\n",
    "    \n",
    "    table = soup.find('table', {'class': 'tb_base tb_dados'})\n",
    "    \n",
    "    if not table:\n",
    "        return None\n",
    "    \n",
    "    # Coletar todas as linhas da tabela\n",
    "    rows = table.find_all('tr')\n",
    "    \n",
    "    data = []\n",
    "    for row in rows:\n",
    "        cols = row.find_all('td')\n",
    "        cols = [col.text.strip() for col in cols]\n",
    "        if cols:\n",
    "            data.append(cols)\n",
    "    \n",
    "    df = pd.DataFrame(data, columns=['Produto', f'Quantidade (L.) {year}'])\n",
    "    return df"
   ]
  },
  {
   "cell_type": "code",
   "execution_count": null,
   "metadata": {},
   "outputs": [],
   "source": [
    "# Função para extrair o texto do elemento <p> para nomear o arquivo\n",
    "def get_filename_from_page(year):\n",
    "    url = f'http://vitibrasil.cnpuv.embrapa.br/index.php?ano={year}&opcao=opt_02'\n",
    "    response = requests.get(url)\n",
    "    soup = BeautifulSoup(response.content, 'html.parser')\n",
    "    \n",
    "    p_element = soup.find('p', {'class': 'text_center'})\n",
    "    if p_element:\n",
    "        filename_base = p_element.text.strip().replace(f' [{year}]', '').replace(' ', '_').replace(',', '')\n",
    "        timestamp = datetime.now().strftime('%Y%m%d_%H%M%S')\n",
    "        filename = f'{filename_base}_{timestamp}.csv'\n",
    "        return filename\n",
    "    return None"
   ]
  }
 ],
 "metadata": {
  "kernelspec": {
   "display_name": "base",
   "language": "python",
   "name": "python3"
  },
  "language_info": {
   "codemirror_mode": {
    "name": "ipython",
    "version": 3
   },
   "file_extension": ".py",
   "mimetype": "text/x-python",
   "name": "python",
   "nbconvert_exporter": "python",
   "pygments_lexer": "ipython3",
   "version": "3.11.9"
  }
 },
 "nbformat": 4,
 "nbformat_minor": 2
}
