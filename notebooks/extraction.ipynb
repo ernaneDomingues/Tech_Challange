{
 "cells": [
  {
   "cell_type": "markdown",
   "metadata": {},
   "source": [
    "# Testando o codigo extraction"
   ]
  },
  {
   "cell_type": "code",
   "execution_count": 1,
   "metadata": {},
   "outputs": [],
   "source": [
    "#Importando as bibliotecas\n",
    "import requests\n",
    "from bs4 import BeautifulSoup\n",
    "import pandas as pd\n",
    "from datetime import datetime\n",
    "import re\n",
    "import psycopg2\n",
    "from psycopg2 import sql\n",
    "from psycopg2.extras import execute_values\n",
    "from dotenv import load_dotenv\n",
    "import os\n",
    "import unicodedata"
   ]
  },
  {
   "cell_type": "code",
   "execution_count": 2,
   "metadata": {},
   "outputs": [],
   "source": [
    "#Criando os intervalos de tempo para o DataFrame\n",
    "START_YEAR = 1970\n",
    "END_YEAR = datetime.now().year - 1"
   ]
  },
  {
   "cell_type": "code",
   "execution_count": 3,
   "metadata": {},
   "outputs": [],
   "source": [
    "# URLs base para cada tipo de tabela\n",
    "URL_TEMPLATES = [\n",
    "    \"http://vitibrasil.cnpuv.embrapa.br/index.php?ano={year}&opcao=opt_02\",\n",
    "    \"http://vitibrasil.cnpuv.embrapa.br/index.php?ano={year}&opcao=opt_03&subopcao=subopt_01\",\n",
    "    \"http://vitibrasil.cnpuv.embrapa.br/index.php?ano={year}&opcao=opt_03&subopcao=subopt_02\",\n",
    "    \"http://vitibrasil.cnpuv.embrapa.br/index.php?ano={year}&opcao=opt_03&subopcao=subopt_03\",\n",
    "    \"http://vitibrasil.cnpuv.embrapa.br/index.php?ano={year}&opcao=opt_03&subopcao=subopt_04\",\n",
    "    \"http://vitibrasil.cnpuv.embrapa.br/index.php?ano={year}&opcao=opt_04\",\n",
    "    \"http://vitibrasil.cnpuv.embrapa.br/index.php?ano={year}&opcao=opt_05&subopcao=subopt_01\",\n",
    "    \"http://vitibrasil.cnpuv.embrapa.br/index.php?ano={year}&opcao=opt_05&subopcao=subopt_02\",\n",
    "    \"http://vitibrasil.cnpuv.embrapa.br/index.php?ano={year}&opcao=opt_05&subopcao=subopt_03\",\n",
    "    \"http://vitibrasil.cnpuv.embrapa.br/index.php?ano={year}&opcao=opt_05&subopcao=subopt_04\",\n",
    "    \"http://vitibrasil.cnpuv.embrapa.br/index.php?ano={year}&opcao=opt_05&subopcao=subopt_05\",\n",
    "    \"http://vitibrasil.cnpuv.embrapa.br/index.php?ano={year}&opcao=opt_06&subopcao=subopt_01\",\n",
    "    \"http://vitibrasil.cnpuv.embrapa.br/index.php?ano={year}&opcao=opt_06&subopcao=subopt_02\",\n",
    "    \"http://vitibrasil.cnpuv.embrapa.br/index.php?ano={year}&opcao=opt_06&subopcao=subopt_03\",\n",
    "    \"http://vitibrasil.cnpuv.embrapa.br/index.php?ano={year}&opcao=opt_06&subopcao=subopt_04\"\n",
    "]"
   ]
  },
  {
   "cell_type": "code",
   "execution_count": 4,
   "metadata": {},
   "outputs": [],
   "source": [
    "#Verifica a disponibilidade da url\n",
    "def fetch_page_content(url):\n",
    "    response = requests.get(url)\n",
    "    response.raise_for_status()\n",
    "    return response.content"
   ]
  },
  {
   "cell_type": "code",
   "execution_count": 5,
   "metadata": {},
   "outputs": [],
   "source": [
    "def standardize_column_name(column):\n",
    "    column = column.strip()  # Remove extra spaces\n",
    "    column = column.lower()  # Convert to lowercase\n",
    "    column = column.replace(' ', '_')  # Replace spaces with underscores\n",
    "    column = column.replace('(', '')  # Remove parentheses\n",
    "    column = column.replace(')', '')  # Remove parentheses\n",
    "    column = column.replace('.', '')  # Remove periods\n",
    "    column = column.replace('$', 'd')  # Replace $ with D\n",
    "    \n",
    "    # Remove accents\n",
    "    column = unicodedata.normalize('NFKD', column).encode('ascii', 'ignore').decode('utf-8')\n",
    "    \n",
    "    return column"
   ]
  },
  {
   "cell_type": "code",
   "execution_count": 6,
   "metadata": {},
   "outputs": [],
   "source": [
    "def parse_table_content_with_category(content):\n",
    "    soup = BeautifulSoup(content, 'html.parser')\n",
    "    table = soup.find('table', class_='tb_base tb_dados')\n",
    "    headers = [header.text.strip() for header in table.find_all('th')]\n",
    "    rows = []\n",
    "    \n",
    "    if 'Países' not in headers:\n",
    "        headers.insert(0, 'Categoria')\n",
    "        current_category = None\n",
    "\n",
    "        for row in table.find_all('tr'):\n",
    "            cells = row.find_all('td')\n",
    "\n",
    "            if len(cells) == 2:\n",
    "                product = cells[0].text.strip()\n",
    "                quantity = cells[1].text.strip().replace('.', '').replace('-', '0')\n",
    "                quantity = int(quantity) if quantity.isdigit() else 0\n",
    "\n",
    "                # Verifica se o texto está em maiúsculas e não contém números\n",
    "                if product.isupper() and not any(c.isdigit() for c in product):\n",
    "                    # Se for uma linha de soma total, assume como a categoria atual\n",
    "                    current_category = product\n",
    "                else:\n",
    "                    # Adiciona a linha ao DataFrame com a categoria atual\n",
    "                    rows.append([current_category, product, quantity])\n",
    "    else:\n",
    "        current_category = None\n",
    "\n",
    "        for row in table.find_all('tr')[1:]:\n",
    "            cells = row.find_all('td')\n",
    "            if len(cells) == 2:\n",
    "                product = cells[0].text.strip()\n",
    "                quantity = cells[1].text.strip().replace('.', '').replace('-', '0')\n",
    "                quantity = int(quantity) if quantity.isdigit() else 0\n",
    "\n",
    "                # Verifica se o texto está em maiúsculas e não contém números\n",
    "                if product.isupper() and not any(c.isdigit() for c in product):\n",
    "                    # Se for uma linha de soma total, assume como a categoria atual\n",
    "                    current_category = product\n",
    "                else:\n",
    "                    # Adiciona a linha ao DataFrame com a categoria atual\n",
    "                    rows.append([current_category, product, quantity])\n",
    "            else:\n",
    "                row_data = [cell.text.strip().replace('.', '').replace('-', '0') for cell in cells]\n",
    "                rows.append(row_data)\n",
    "\n",
    "    return headers, rows"
   ]
  },
  {
   "cell_type": "code",
   "execution_count": 7,
   "metadata": {},
   "outputs": [],
   "source": [
    "#Extrai a tabela para cada ano\n",
    "def extract_table_data(url, year):\n",
    "    try:\n",
    "        content = fetch_page_content(url)\n",
    "        headers, rows = parse_table_content_with_category(content)\n",
    "        df = pd.DataFrame(rows, columns=headers)\n",
    "        df['Ano'] = year\n",
    "        df.columns = [standardize_column_name(col) for col in df.columns]\n",
    "        df.fillna(0, inplace=True)\n",
    "        return df\n",
    "    except Exception as e:\n",
    "        print(f\"Erro ao extrair dados do ano {year}: {e}\")\n",
    "        return pd.DataFrame()"
   ]
  },
  {
   "cell_type": "code",
   "execution_count": 8,
   "metadata": {},
   "outputs": [],
   "source": [
    "#Extrai todas as tabelas dentro do intervalo de anos definido\n",
    "def extract_table_all_data(url_template, start_year, end_year):\n",
    "    all_data = pd.DataFrame()\n",
    "    for year in range(start_year, end_year + 1):\n",
    "        url = url_template.format(year=year)\n",
    "        year_data = extract_table_data(url, year)\n",
    "        if not year_data.empty:\n",
    "            all_data = pd.concat([all_data, year_data], ignore_index=True)\n",
    "            print(f\"Dados do ano {year} extraídos com sucesso.\")\n",
    "    return all_data"
   ]
  },
  {
   "cell_type": "code",
   "execution_count": 9,
   "metadata": {},
   "outputs": [],
   "source": [
    "#Pega os headers da tabela, para ser usado como coluna no pivot_dataframe\n",
    "def get_table_headers(url, end_year):\n",
    "    content = fetch_page_content(url.format(year=end_year))\n",
    "    headers, _ = parse_table_content_with_category(content)\n",
    "    return headers"
   ]
  },
  {
   "cell_type": "code",
   "execution_count": 10,
   "metadata": {},
   "outputs": [],
   "source": [
    "#Pega o titulo da tabela e cria o nome do arquivo CSV com o datetime do dia da extração\n",
    "def get_filename_from_page(end_year, url):\n",
    "    content = fetch_page_content(url.format(year=end_year))\n",
    "    soup = BeautifulSoup(content, 'html.parser')\n",
    "    p_element = soup.find('p', {'class': 'text_center'})\n",
    "    if p_element:\n",
    "        filename_base = p_element.text.strip().replace(f' [{end_year}]', '').replace(' ', '_').replace(',', '')\n",
    "        timestamp = datetime.now().strftime('%Y%m%d_%H%M%S')\n",
    "        filename = f'{filename_base}_{timestamp}.csv'\n",
    "        return filename\n",
    "    return None"
   ]
  },
  {
   "cell_type": "code",
   "execution_count": 11,
   "metadata": {},
   "outputs": [],
   "source": [
    "#Função para salvar o DataFrame em um CSV\n",
    "def save_to_csv(df, filename):\n",
    "    df.to_csv(filename, index=False)"
   ]
  },
  {
   "cell_type": "markdown",
   "metadata": {},
   "source": [
    "### Sequencia de execução das funções para gerar o DataFrame final"
   ]
  },
  {
   "cell_type": "code",
   "execution_count": null,
   "metadata": {},
   "outputs": [],
   "source": [
    "all_data = extract_table_all_data(URL_TEMPLATES[0], START_YEAR, END_YEAR)\n",
    "columns = get_table_headers(URL_TEMPLATES[0], END_YEAR)\n",
    "filename = get_filename_from_page(END_YEAR, URL_TEMPLATES[0])"
   ]
  },
  {
   "cell_type": "code",
   "execution_count": null,
   "metadata": {},
   "outputs": [],
   "source": [
    "columns"
   ]
  },
  {
   "cell_type": "code",
   "execution_count": null,
   "metadata": {},
   "outputs": [],
   "source": [
    "all_data"
   ]
  },
  {
   "cell_type": "markdown",
   "metadata": {},
   "source": [
    "### Execução para salvar todos os DataFrames extraidos a partir do Web Scraping"
   ]
  },
  {
   "cell_type": "code",
   "execution_count": null,
   "metadata": {},
   "outputs": [],
   "source": [
    "# # Função principal para extrair dados de todos os URLs\n",
    "# def extract_and_save_all_data(url_templates, start_year, end_year):\n",
    "#     for url_template in url_templates:\n",
    "#         all_data = extract_table_all_data(url_template, start_year, end_year)\n",
    "#         if not all_data.empty:\n",
    "#             filename = get_filename_from_page(end_year, url_template)\n",
    "#             if filename:\n",
    "#                 save_to_csv(all_data, filename)\n",
    "#                 print(f\"Dados salvos em {filename}\")\n",
    "# # Executa a extração de dados\n",
    "# extract_and_save_all_data(URL_TEMPLATES, START_YEAR, END_YEAR)"
   ]
  },
  {
   "cell_type": "code",
   "execution_count": null,
   "metadata": {},
   "outputs": [],
   "source": [
    "# for url in URL_TEMPLATES:\n",
    "#     filename = get_filename_from_page(END_YEAR, url)\n",
    "#     print(filename)"
   ]
  },
  {
   "cell_type": "code",
   "execution_count": null,
   "metadata": {},
   "outputs": [],
   "source": [
    "filename"
   ]
  },
  {
   "cell_type": "code",
   "execution_count": 12,
   "metadata": {},
   "outputs": [],
   "source": [
    "def process_string(input_string):\n",
    "    # Remove the file extension\n",
    "    without_extension = input_string.split('.')[0]\n",
    "    \n",
    "    # Remove the date and time part\n",
    "    parts = without_extension.split('__')\n",
    "    if len(parts) > 1:\n",
    "        without_date_time = parts[0]\n",
    "    else:\n",
    "        without_date_time = parts[0].rsplit('_', 2)[0]\n",
    "    \n",
    "    # Replace special characters and adjust the format\n",
    "    result = without_date_time.lower().replace('ç', 'c').replace('ã', 'a').replace('é', 'e').replace('í', 'i').replace('ú', 'u').replace('á', 'a').replace('ó', 'o').replace('ê', 'e').replace('ô', 'o').replace(' ', '_').replace('__', '_').replace('_e_', '_').replace('_de_', '_').replace('_', '_')\n",
    "    \n",
    "    return result"
   ]
  },
  {
   "cell_type": "code",
   "execution_count": null,
   "metadata": {},
   "outputs": [],
   "source": [
    "filename = process_string(filename)\n",
    "filename"
   ]
  },
  {
   "cell_type": "code",
   "execution_count": 13,
   "metadata": {},
   "outputs": [],
   "source": [
    "#Carregando as variaveis de ambiente\n",
    "load_dotenv()\n",
    "\n",
    "#Azure\n",
    "# dbname=os.getenv('PGDATABASE')\n",
    "# user=os.getenv('PGUSER')\n",
    "# password=os.getenv('PGPASSWORD')\n",
    "# host=os.getenv('PGHOST')\n",
    "# port=os.getenv('PGPORT')\n",
    "\n",
    "#Heroku\n",
    "dbname=os.getenv('HDATABASE')\n",
    "user=os.getenv('HUSER')\n",
    "password=os.getenv('HPASSWORD')\n",
    "host=os.getenv('HHOST')\n",
    "port=os.getenv('HPORT')"
   ]
  },
  {
   "cell_type": "code",
   "execution_count": 14,
   "metadata": {},
   "outputs": [],
   "source": [
    "# Conectando ao banco de dados PostgreSQL\n",
    "def conectar_ao_banco(dbname, user, password, host, port):\n",
    "    conn = psycopg2.connect(\n",
    "        dbname=dbname,\n",
    "        user=user,\n",
    "        password=password,\n",
    "        host=host,\n",
    "        port=port\n",
    "    )\n",
    "    cur = conn.cursor()\n",
    "    return conn, cur"
   ]
  },
  {
   "cell_type": "code",
   "execution_count": 15,
   "metadata": {},
   "outputs": [],
   "source": [
    "# Função para mapear os tipos de dados do Pandas para PostgreSQL\n",
    "def mapear_tipos_pandas_para_postgresql(dtype):\n",
    "    if pd.api.types.is_integer_dtype(dtype):\n",
    "        return \"INTEGER\"\n",
    "    elif pd.api.types.is_float_dtype(dtype):\n",
    "        return \"FLOAT\"\n",
    "    elif pd.api.types.is_object_dtype(dtype):\n",
    "        return \"TEXT\"\n",
    "    else:\n",
    "        return \"TEXT\"  # Tipo padrão"
   ]
  },
  {
   "cell_type": "code",
   "execution_count": 16,
   "metadata": {},
   "outputs": [],
   "source": [
    "# Função para criar a tabela no PostgreSQL com base nos dtypes do DataFrame\n",
    "def criar_tabela_com_dtypes(cur, conn, nome_tabela, df, schema='public'):\n",
    "    nome_completo_tabela = f\"{schema}.{nome_tabela}\"\n",
    "    colunas_com_tipos = \", \".join([f\"{col} {mapear_tipos_pandas_para_postgresql(dtype)}\" for col, dtype in df.dtypes.items()])\n",
    "    \n",
    "    # Criar a query SQL para criar a tabela\n",
    "    query = f\"CREATE TABLE IF NOT EXISTS {nome_completo_tabela} ({colunas_com_tipos});\"\n",
    "    \n",
    "    # Executar a query\n",
    "    cur.execute(query)\n",
    "    conn.commit()"
   ]
  },
  {
   "cell_type": "code",
   "execution_count": 17,
   "metadata": {},
   "outputs": [],
   "source": [
    "# Inserindo os dados do DataFrame no banco de dados\n",
    "def inserir_dados(cur, conn, nome_tabela, df):\n",
    "    for index, row in df.iterrows():\n",
    "        columns = ', '.join(row.index)\n",
    "        values = ', '.join(['%s'] * len(row))\n",
    "        insert_query = sql.SQL(f\"INSERT INTO {nome_tabela} ({columns}) VALUES ({values})\")\n",
    "        cur.execute(insert_query, tuple(row))\n",
    "    conn.commit()"
   ]
  },
  {
   "cell_type": "code",
   "execution_count": 18,
   "metadata": {},
   "outputs": [],
   "source": [
    "# Função para inserir dados em massa na tabela\n",
    "def inserir_dados_em_massa(cur, conn, nome_tabela, df):\n",
    "    \"\"\"\n",
    "    Insere dados em massa em uma tabela a partir de um DataFrame utilizando psycopg2.\n",
    "\n",
    "    Parameters:\n",
    "    - cur: cursor do banco de dados PostgreSQL.\n",
    "    - conn: conexão ao banco de dados PostgreSQL.\n",
    "    - nome_tabela (str): nome da tabela onde os dados serão inseridos.\n",
    "    - df (DataFrame): pandas DataFrame contendo os dados a serem inseridos.\n",
    "\n",
    "    Exemplo de uso:\n",
    "    cur = conn.cursor()\n",
    "    inserir_dados_em_massa(cur, conn, 'minha_tabela', meu_dataframe)\n",
    "    \"\"\"\n",
    "\n",
    "    # Extraindo as colunas do DataFrame\n",
    "    columns = list(df.columns)\n",
    "\n",
    "    # Convertendo os dados do DataFrame em uma lista de tuplas\n",
    "    data = [tuple(row) for row in df.to_numpy()]\n",
    "\n",
    "    # Construindo a query de inserção\n",
    "    query = sql.SQL(\"INSERT INTO {} ({}) VALUES %s\").format(\n",
    "        sql.Identifier(nome_tabela),\n",
    "        sql.SQL(', ').join(map(sql.Identifier, columns))\n",
    "    )\n",
    "    \n",
    "    try:\n",
    "        # Executando a inserção em massa\n",
    "        execute_values(cur, query, data)\n",
    "        conn.commit()\n",
    "        print(f\"{cur.rowcount} registros inseridos com sucesso em {nome_tabela}.\")\n",
    "    except Exception as e:\n",
    "        conn.rollback()\n",
    "        print(f\"Ocorreu um erro ao inserir dados: {e}\")"
   ]
  },
  {
   "cell_type": "code",
   "execution_count": 19,
   "metadata": {},
   "outputs": [],
   "source": [
    "# Fechando a conexão\n",
    "def fechar_conexao(cur, conn):\n",
    "    cur.close()\n",
    "    conn.close()"
   ]
  },
  {
   "cell_type": "code",
   "execution_count": 20,
   "metadata": {},
   "outputs": [],
   "source": [
    "# Sequência de execução\n",
    "def executar_sequencia(dbname, user, password, host, port, filename, all_data):\n",
    "    conn, cur = conectar_ao_banco(dbname, user, password, host, port)\n",
    "    criar_tabela_com_dtypes(cur, conn, filename, all_data)\n",
    "    inserir_dados_em_massa(cur, conn, filename, all_data)\n",
    "    fechar_conexao(cur, conn)"
   ]
  },
  {
   "cell_type": "code",
   "execution_count": 21,
   "metadata": {},
   "outputs": [],
   "source": [
    "# Função principal para extrair dados de todos os URLs\n",
    "def extract_and_save_all_data(dbname, user, password, host, port, url_templates, start_year, end_year):\n",
    "    for url_template in url_templates:\n",
    "        all_data = extract_table_all_data(url_template, start_year, end_year)\n",
    "        if not all_data.empty:\n",
    "            filename = get_filename_from_page(end_year, url_template)\n",
    "            filename = process_string(filename)\n",
    "            print(filename)\n",
    "            executar_sequencia(dbname, user, password, host, port, filename, all_data)\n"
   ]
  },
  {
   "cell_type": "code",
   "execution_count": 22,
   "metadata": {},
   "outputs": [
    {
     "name": "stdout",
     "output_type": "stream",
     "text": [
      "Dados do ano 1970 extraídos com sucesso.\n",
      "Dados do ano 1971 extraídos com sucesso.\n",
      "Dados do ano 1972 extraídos com sucesso.\n",
      "Dados do ano 1973 extraídos com sucesso.\n",
      "Dados do ano 1974 extraídos com sucesso.\n",
      "Dados do ano 1975 extraídos com sucesso.\n",
      "Dados do ano 1976 extraídos com sucesso.\n",
      "Dados do ano 1977 extraídos com sucesso.\n",
      "Dados do ano 1978 extraídos com sucesso.\n",
      "Dados do ano 1979 extraídos com sucesso.\n",
      "Dados do ano 1980 extraídos com sucesso.\n",
      "Dados do ano 1981 extraídos com sucesso.\n",
      "Dados do ano 1982 extraídos com sucesso.\n",
      "Dados do ano 1983 extraídos com sucesso.\n",
      "Dados do ano 1984 extraídos com sucesso.\n",
      "Dados do ano 1985 extraídos com sucesso.\n",
      "Dados do ano 1986 extraídos com sucesso.\n",
      "Dados do ano 1987 extraídos com sucesso.\n",
      "Dados do ano 1988 extraídos com sucesso.\n",
      "Dados do ano 1989 extraídos com sucesso.\n",
      "Dados do ano 1990 extraídos com sucesso.\n",
      "Dados do ano 1991 extraídos com sucesso.\n",
      "Dados do ano 1992 extraídos com sucesso.\n",
      "Dados do ano 1993 extraídos com sucesso.\n",
      "Dados do ano 1994 extraídos com sucesso.\n",
      "Dados do ano 1995 extraídos com sucesso.\n",
      "Dados do ano 1996 extraídos com sucesso.\n",
      "Dados do ano 1997 extraídos com sucesso.\n",
      "Dados do ano 1998 extraídos com sucesso.\n",
      "Dados do ano 1999 extraídos com sucesso.\n",
      "Dados do ano 2000 extraídos com sucesso.\n",
      "Dados do ano 2001 extraídos com sucesso.\n",
      "Dados do ano 2002 extraídos com sucesso.\n",
      "Dados do ano 2003 extraídos com sucesso.\n",
      "Dados do ano 2004 extraídos com sucesso.\n",
      "Dados do ano 2005 extraídos com sucesso.\n",
      "Dados do ano 2006 extraídos com sucesso.\n",
      "Dados do ano 2007 extraídos com sucesso.\n",
      "Dados do ano 2008 extraídos com sucesso.\n",
      "Dados do ano 2009 extraídos com sucesso.\n",
      "Dados do ano 2010 extraídos com sucesso.\n",
      "Dados do ano 2011 extraídos com sucesso.\n",
      "Dados do ano 2012 extraídos com sucesso.\n",
      "Dados do ano 2013 extraídos com sucesso.\n",
      "Dados do ano 2014 extraídos com sucesso.\n",
      "Dados do ano 2015 extraídos com sucesso.\n",
      "Dados do ano 2016 extraídos com sucesso.\n",
      "Dados do ano 2017 extraídos com sucesso.\n",
      "Dados do ano 2018 extraídos com sucesso.\n",
      "Dados do ano 2019 extraídos com sucesso.\n",
      "Dados do ano 2020 extraídos com sucesso.\n",
      "Dados do ano 2021 extraídos com sucesso.\n",
      "Dados do ano 2022 extraídos com sucesso.\n",
      "Dados do ano 2023 extraídos com sucesso.\n",
      "producao_vinhos_sucos_derivados\n",
      "92 registros inseridos com sucesso em producao_vinhos_sucos_derivados.\n",
      "Dados do ano 1970 extraídos com sucesso.\n",
      "Dados do ano 1971 extraídos com sucesso.\n",
      "Dados do ano 1972 extraídos com sucesso.\n",
      "Dados do ano 1973 extraídos com sucesso.\n",
      "Dados do ano 1974 extraídos com sucesso.\n",
      "Dados do ano 1975 extraídos com sucesso.\n",
      "Dados do ano 1976 extraídos com sucesso.\n",
      "Dados do ano 1977 extraídos com sucesso.\n",
      "Dados do ano 1978 extraídos com sucesso.\n",
      "Dados do ano 1979 extraídos com sucesso.\n",
      "Dados do ano 1980 extraídos com sucesso.\n",
      "Dados do ano 1981 extraídos com sucesso.\n",
      "Dados do ano 1982 extraídos com sucesso.\n",
      "Dados do ano 1983 extraídos com sucesso.\n",
      "Dados do ano 1984 extraídos com sucesso.\n",
      "Dados do ano 1985 extraídos com sucesso.\n",
      "Dados do ano 1986 extraídos com sucesso.\n",
      "Dados do ano 1987 extraídos com sucesso.\n",
      "Dados do ano 1988 extraídos com sucesso.\n",
      "Dados do ano 1989 extraídos com sucesso.\n",
      "Dados do ano 1990 extraídos com sucesso.\n",
      "Dados do ano 1991 extraídos com sucesso.\n",
      "Dados do ano 1992 extraídos com sucesso.\n",
      "Dados do ano 1993 extraídos com sucesso.\n",
      "Dados do ano 1994 extraídos com sucesso.\n",
      "Dados do ano 1995 extraídos com sucesso.\n",
      "Dados do ano 1996 extraídos com sucesso.\n",
      "Dados do ano 1997 extraídos com sucesso.\n",
      "Dados do ano 1998 extraídos com sucesso.\n",
      "Dados do ano 1999 extraídos com sucesso.\n",
      "Dados do ano 2000 extraídos com sucesso.\n",
      "Dados do ano 2001 extraídos com sucesso.\n",
      "Dados do ano 2002 extraídos com sucesso.\n",
      "Dados do ano 2003 extraídos com sucesso.\n",
      "Dados do ano 2004 extraídos com sucesso.\n",
      "Dados do ano 2005 extraídos com sucesso.\n",
      "Dados do ano 2006 extraídos com sucesso.\n",
      "Dados do ano 2007 extraídos com sucesso.\n",
      "Dados do ano 2008 extraídos com sucesso.\n",
      "Dados do ano 2009 extraídos com sucesso.\n",
      "Dados do ano 2010 extraídos com sucesso.\n",
      "Dados do ano 2011 extraídos com sucesso.\n",
      "Dados do ano 2012 extraídos com sucesso.\n",
      "Dados do ano 2013 extraídos com sucesso.\n",
      "Dados do ano 2014 extraídos com sucesso.\n",
      "Dados do ano 2015 extraídos com sucesso.\n",
      "Dados do ano 2016 extraídos com sucesso.\n",
      "Dados do ano 2017 extraídos com sucesso.\n",
      "Dados do ano 2018 extraídos com sucesso.\n",
      "Dados do ano 2019 extraídos com sucesso.\n",
      "Dados do ano 2020 extraídos com sucesso.\n",
      "Dados do ano 2021 extraídos com sucesso.\n",
      "Dados do ano 2022 extraídos com sucesso.\n",
      "Dados do ano 2023 extraídos com sucesso.\n",
      "uvas_viniferas_processadas\n",
      "52 registros inseridos com sucesso em uvas_viniferas_processadas.\n",
      "Dados do ano 1970 extraídos com sucesso.\n",
      "Dados do ano 1971 extraídos com sucesso.\n",
      "Dados do ano 1972 extraídos com sucesso.\n",
      "Dados do ano 1973 extraídos com sucesso.\n",
      "Dados do ano 1974 extraídos com sucesso.\n",
      "Dados do ano 1975 extraídos com sucesso.\n",
      "Dados do ano 1976 extraídos com sucesso.\n",
      "Dados do ano 1977 extraídos com sucesso.\n",
      "Dados do ano 1978 extraídos com sucesso.\n",
      "Dados do ano 1979 extraídos com sucesso.\n",
      "Dados do ano 1980 extraídos com sucesso.\n",
      "Dados do ano 1981 extraídos com sucesso.\n",
      "Dados do ano 1982 extraídos com sucesso.\n",
      "Dados do ano 1983 extraídos com sucesso.\n",
      "Dados do ano 1984 extraídos com sucesso.\n",
      "Dados do ano 1985 extraídos com sucesso.\n",
      "Dados do ano 1986 extraídos com sucesso.\n",
      "Dados do ano 1987 extraídos com sucesso.\n",
      "Dados do ano 1988 extraídos com sucesso.\n",
      "Dados do ano 1989 extraídos com sucesso.\n",
      "Dados do ano 1990 extraídos com sucesso.\n",
      "Dados do ano 1991 extraídos com sucesso.\n",
      "Dados do ano 1992 extraídos com sucesso.\n",
      "Dados do ano 1993 extraídos com sucesso.\n",
      "Dados do ano 1994 extraídos com sucesso.\n",
      "Dados do ano 1995 extraídos com sucesso.\n",
      "Dados do ano 1996 extraídos com sucesso.\n",
      "Dados do ano 1997 extraídos com sucesso.\n",
      "Dados do ano 1998 extraídos com sucesso.\n",
      "Dados do ano 1999 extraídos com sucesso.\n",
      "Dados do ano 2000 extraídos com sucesso.\n",
      "Dados do ano 2001 extraídos com sucesso.\n",
      "Dados do ano 2002 extraídos com sucesso.\n",
      "Dados do ano 2003 extraídos com sucesso.\n",
      "Dados do ano 2004 extraídos com sucesso.\n",
      "Dados do ano 2005 extraídos com sucesso.\n",
      "Dados do ano 2006 extraídos com sucesso.\n",
      "Dados do ano 2007 extraídos com sucesso.\n",
      "Dados do ano 2008 extraídos com sucesso.\n",
      "Dados do ano 2009 extraídos com sucesso.\n",
      "Dados do ano 2010 extraídos com sucesso.\n",
      "Dados do ano 2011 extraídos com sucesso.\n",
      "Dados do ano 2012 extraídos com sucesso.\n",
      "Dados do ano 2013 extraídos com sucesso.\n",
      "Dados do ano 2014 extraídos com sucesso.\n",
      "Dados do ano 2015 extraídos com sucesso.\n",
      "Dados do ano 2016 extraídos com sucesso.\n",
      "Dados do ano 2017 extraídos com sucesso.\n",
      "Dados do ano 2018 extraídos com sucesso.\n",
      "Dados do ano 2019 extraídos com sucesso.\n",
      "Dados do ano 2020 extraídos com sucesso.\n",
      "Dados do ano 2021 extraídos com sucesso.\n",
      "Dados do ano 2022 extraídos com sucesso.\n",
      "Dados do ano 2023 extraídos com sucesso.\n",
      "uvas_americanas_hibridas_processadas\n",
      "40 registros inseridos com sucesso em uvas_americanas_hibridas_processadas.\n",
      "Dados do ano 1970 extraídos com sucesso.\n",
      "Dados do ano 1971 extraídos com sucesso.\n",
      "Dados do ano 1972 extraídos com sucesso.\n",
      "Dados do ano 1973 extraídos com sucesso.\n",
      "Dados do ano 1974 extraídos com sucesso.\n",
      "Dados do ano 1975 extraídos com sucesso.\n",
      "Dados do ano 1976 extraídos com sucesso.\n",
      "Dados do ano 1977 extraídos com sucesso.\n",
      "Dados do ano 1978 extraídos com sucesso.\n",
      "Dados do ano 1979 extraídos com sucesso.\n",
      "Dados do ano 1980 extraídos com sucesso.\n",
      "Dados do ano 1981 extraídos com sucesso.\n",
      "Dados do ano 1982 extraídos com sucesso.\n",
      "Dados do ano 1983 extraídos com sucesso.\n",
      "Dados do ano 1984 extraídos com sucesso.\n",
      "Dados do ano 1985 extraídos com sucesso.\n",
      "Dados do ano 1986 extraídos com sucesso.\n",
      "Dados do ano 1987 extraídos com sucesso.\n",
      "Dados do ano 1988 extraídos com sucesso.\n",
      "Dados do ano 1989 extraídos com sucesso.\n",
      "Dados do ano 1990 extraídos com sucesso.\n",
      "Dados do ano 1991 extraídos com sucesso.\n",
      "Dados do ano 1992 extraídos com sucesso.\n",
      "Dados do ano 1993 extraídos com sucesso.\n",
      "Dados do ano 1994 extraídos com sucesso.\n",
      "Dados do ano 1995 extraídos com sucesso.\n",
      "Dados do ano 1996 extraídos com sucesso.\n",
      "Dados do ano 1997 extraídos com sucesso.\n",
      "Dados do ano 1998 extraídos com sucesso.\n",
      "Dados do ano 1999 extraídos com sucesso.\n",
      "Dados do ano 2000 extraídos com sucesso.\n",
      "Dados do ano 2001 extraídos com sucesso.\n",
      "Dados do ano 2002 extraídos com sucesso.\n",
      "Dados do ano 2003 extraídos com sucesso.\n",
      "Dados do ano 2004 extraídos com sucesso.\n",
      "Dados do ano 2005 extraídos com sucesso.\n",
      "Dados do ano 2006 extraídos com sucesso.\n",
      "Dados do ano 2007 extraídos com sucesso.\n",
      "Dados do ano 2008 extraídos com sucesso.\n",
      "Dados do ano 2009 extraídos com sucesso.\n",
      "Dados do ano 2010 extraídos com sucesso.\n",
      "Dados do ano 2011 extraídos com sucesso.\n",
      "Dados do ano 2012 extraídos com sucesso.\n",
      "Dados do ano 2013 extraídos com sucesso.\n",
      "Dados do ano 2014 extraídos com sucesso.\n",
      "Dados do ano 2015 extraídos com sucesso.\n",
      "Dados do ano 2016 extraídos com sucesso.\n",
      "Dados do ano 2017 extraídos com sucesso.\n",
      "Dados do ano 2018 extraídos com sucesso.\n",
      "Dados do ano 2019 extraídos com sucesso.\n",
      "Dados do ano 2020 extraídos com sucesso.\n",
      "Dados do ano 2021 extraídos com sucesso.\n",
      "Dados do ano 2022 extraídos com sucesso.\n",
      "Dados do ano 2023 extraídos com sucesso.\n",
      "uvas_mesa_processadas\n",
      "86 registros inseridos com sucesso em uvas_mesa_processadas.\n"
     ]
    },
    {
     "name": "stderr",
     "output_type": "stream",
     "text": [
      "C:\\Users\\ernan\\AppData\\Local\\Temp\\ipykernel_34104\\1104401823.py:9: FutureWarning: Downcasting object dtype arrays on .fillna, .ffill, .bfill is deprecated and will change in a future version. Call result.infer_objects(copy=False) instead. To opt-in to the future behavior, set `pd.set_option('future.no_silent_downcasting', True)`\n",
      "  df.fillna(0, inplace=True)\n",
      "C:\\Users\\ernan\\AppData\\Local\\Temp\\ipykernel_34104\\1104401823.py:9: FutureWarning: Downcasting object dtype arrays on .fillna, .ffill, .bfill is deprecated and will change in a future version. Call result.infer_objects(copy=False) instead. To opt-in to the future behavior, set `pd.set_option('future.no_silent_downcasting', True)`\n",
      "  df.fillna(0, inplace=True)\n"
     ]
    },
    {
     "name": "stdout",
     "output_type": "stream",
     "text": [
      "Dados do ano 1970 extraídos com sucesso.\n",
      "Dados do ano 1971 extraídos com sucesso.\n"
     ]
    },
    {
     "name": "stderr",
     "output_type": "stream",
     "text": [
      "C:\\Users\\ernan\\AppData\\Local\\Temp\\ipykernel_34104\\1104401823.py:9: FutureWarning: Downcasting object dtype arrays on .fillna, .ffill, .bfill is deprecated and will change in a future version. Call result.infer_objects(copy=False) instead. To opt-in to the future behavior, set `pd.set_option('future.no_silent_downcasting', True)`\n",
      "  df.fillna(0, inplace=True)\n"
     ]
    },
    {
     "name": "stdout",
     "output_type": "stream",
     "text": [
      "Dados do ano 1972 extraídos com sucesso.\n"
     ]
    },
    {
     "name": "stderr",
     "output_type": "stream",
     "text": [
      "C:\\Users\\ernan\\AppData\\Local\\Temp\\ipykernel_34104\\1104401823.py:9: FutureWarning: Downcasting object dtype arrays on .fillna, .ffill, .bfill is deprecated and will change in a future version. Call result.infer_objects(copy=False) instead. To opt-in to the future behavior, set `pd.set_option('future.no_silent_downcasting', True)`\n",
      "  df.fillna(0, inplace=True)\n",
      "C:\\Users\\ernan\\AppData\\Local\\Temp\\ipykernel_34104\\1104401823.py:9: FutureWarning: Downcasting object dtype arrays on .fillna, .ffill, .bfill is deprecated and will change in a future version. Call result.infer_objects(copy=False) instead. To opt-in to the future behavior, set `pd.set_option('future.no_silent_downcasting', True)`\n",
      "  df.fillna(0, inplace=True)\n"
     ]
    },
    {
     "name": "stdout",
     "output_type": "stream",
     "text": [
      "Dados do ano 1973 extraídos com sucesso.\n",
      "Dados do ano 1974 extraídos com sucesso.\n"
     ]
    },
    {
     "name": "stderr",
     "output_type": "stream",
     "text": [
      "C:\\Users\\ernan\\AppData\\Local\\Temp\\ipykernel_34104\\1104401823.py:9: FutureWarning: Downcasting object dtype arrays on .fillna, .ffill, .bfill is deprecated and will change in a future version. Call result.infer_objects(copy=False) instead. To opt-in to the future behavior, set `pd.set_option('future.no_silent_downcasting', True)`\n",
      "  df.fillna(0, inplace=True)\n",
      "C:\\Users\\ernan\\AppData\\Local\\Temp\\ipykernel_34104\\1104401823.py:9: FutureWarning: Downcasting object dtype arrays on .fillna, .ffill, .bfill is deprecated and will change in a future version. Call result.infer_objects(copy=False) instead. To opt-in to the future behavior, set `pd.set_option('future.no_silent_downcasting', True)`\n",
      "  df.fillna(0, inplace=True)\n"
     ]
    },
    {
     "name": "stdout",
     "output_type": "stream",
     "text": [
      "Dados do ano 1975 extraídos com sucesso.\n",
      "Dados do ano 1976 extraídos com sucesso.\n"
     ]
    },
    {
     "name": "stderr",
     "output_type": "stream",
     "text": [
      "C:\\Users\\ernan\\AppData\\Local\\Temp\\ipykernel_34104\\1104401823.py:9: FutureWarning: Downcasting object dtype arrays on .fillna, .ffill, .bfill is deprecated and will change in a future version. Call result.infer_objects(copy=False) instead. To opt-in to the future behavior, set `pd.set_option('future.no_silent_downcasting', True)`\n",
      "  df.fillna(0, inplace=True)\n",
      "C:\\Users\\ernan\\AppData\\Local\\Temp\\ipykernel_34104\\1104401823.py:9: FutureWarning: Downcasting object dtype arrays on .fillna, .ffill, .bfill is deprecated and will change in a future version. Call result.infer_objects(copy=False) instead. To opt-in to the future behavior, set `pd.set_option('future.no_silent_downcasting', True)`\n",
      "  df.fillna(0, inplace=True)\n"
     ]
    },
    {
     "name": "stdout",
     "output_type": "stream",
     "text": [
      "Dados do ano 1977 extraídos com sucesso.\n",
      "Dados do ano 1978 extraídos com sucesso.\n"
     ]
    },
    {
     "name": "stderr",
     "output_type": "stream",
     "text": [
      "C:\\Users\\ernan\\AppData\\Local\\Temp\\ipykernel_34104\\1104401823.py:9: FutureWarning: Downcasting object dtype arrays on .fillna, .ffill, .bfill is deprecated and will change in a future version. Call result.infer_objects(copy=False) instead. To opt-in to the future behavior, set `pd.set_option('future.no_silent_downcasting', True)`\n",
      "  df.fillna(0, inplace=True)\n"
     ]
    },
    {
     "name": "stdout",
     "output_type": "stream",
     "text": [
      "Dados do ano 1979 extraídos com sucesso.\n"
     ]
    },
    {
     "name": "stderr",
     "output_type": "stream",
     "text": [
      "C:\\Users\\ernan\\AppData\\Local\\Temp\\ipykernel_34104\\1104401823.py:9: FutureWarning: Downcasting object dtype arrays on .fillna, .ffill, .bfill is deprecated and will change in a future version. Call result.infer_objects(copy=False) instead. To opt-in to the future behavior, set `pd.set_option('future.no_silent_downcasting', True)`\n",
      "  df.fillna(0, inplace=True)\n"
     ]
    },
    {
     "name": "stdout",
     "output_type": "stream",
     "text": [
      "Dados do ano 1980 extraídos com sucesso.\n"
     ]
    },
    {
     "name": "stderr",
     "output_type": "stream",
     "text": [
      "C:\\Users\\ernan\\AppData\\Local\\Temp\\ipykernel_34104\\1104401823.py:9: FutureWarning: Downcasting object dtype arrays on .fillna, .ffill, .bfill is deprecated and will change in a future version. Call result.infer_objects(copy=False) instead. To opt-in to the future behavior, set `pd.set_option('future.no_silent_downcasting', True)`\n",
      "  df.fillna(0, inplace=True)\n"
     ]
    },
    {
     "name": "stdout",
     "output_type": "stream",
     "text": [
      "Dados do ano 1981 extraídos com sucesso.\n"
     ]
    },
    {
     "name": "stderr",
     "output_type": "stream",
     "text": [
      "C:\\Users\\ernan\\AppData\\Local\\Temp\\ipykernel_34104\\1104401823.py:9: FutureWarning: Downcasting object dtype arrays on .fillna, .ffill, .bfill is deprecated and will change in a future version. Call result.infer_objects(copy=False) instead. To opt-in to the future behavior, set `pd.set_option('future.no_silent_downcasting', True)`\n",
      "  df.fillna(0, inplace=True)\n"
     ]
    },
    {
     "name": "stdout",
     "output_type": "stream",
     "text": [
      "Dados do ano 1982 extraídos com sucesso.\n"
     ]
    },
    {
     "name": "stderr",
     "output_type": "stream",
     "text": [
      "C:\\Users\\ernan\\AppData\\Local\\Temp\\ipykernel_34104\\1104401823.py:9: FutureWarning: Downcasting object dtype arrays on .fillna, .ffill, .bfill is deprecated and will change in a future version. Call result.infer_objects(copy=False) instead. To opt-in to the future behavior, set `pd.set_option('future.no_silent_downcasting', True)`\n",
      "  df.fillna(0, inplace=True)\n",
      "C:\\Users\\ernan\\AppData\\Local\\Temp\\ipykernel_34104\\1104401823.py:9: FutureWarning: Downcasting object dtype arrays on .fillna, .ffill, .bfill is deprecated and will change in a future version. Call result.infer_objects(copy=False) instead. To opt-in to the future behavior, set `pd.set_option('future.no_silent_downcasting', True)`\n",
      "  df.fillna(0, inplace=True)\n"
     ]
    },
    {
     "name": "stdout",
     "output_type": "stream",
     "text": [
      "Dados do ano 1983 extraídos com sucesso.\n",
      "Dados do ano 1984 extraídos com sucesso.\n"
     ]
    },
    {
     "name": "stderr",
     "output_type": "stream",
     "text": [
      "C:\\Users\\ernan\\AppData\\Local\\Temp\\ipykernel_34104\\1104401823.py:9: FutureWarning: Downcasting object dtype arrays on .fillna, .ffill, .bfill is deprecated and will change in a future version. Call result.infer_objects(copy=False) instead. To opt-in to the future behavior, set `pd.set_option('future.no_silent_downcasting', True)`\n",
      "  df.fillna(0, inplace=True)\n",
      "C:\\Users\\ernan\\AppData\\Local\\Temp\\ipykernel_34104\\1104401823.py:9: FutureWarning: Downcasting object dtype arrays on .fillna, .ffill, .bfill is deprecated and will change in a future version. Call result.infer_objects(copy=False) instead. To opt-in to the future behavior, set `pd.set_option('future.no_silent_downcasting', True)`\n",
      "  df.fillna(0, inplace=True)\n"
     ]
    },
    {
     "name": "stdout",
     "output_type": "stream",
     "text": [
      "Dados do ano 1985 extraídos com sucesso.\n",
      "Dados do ano 1986 extraídos com sucesso.\n"
     ]
    },
    {
     "name": "stderr",
     "output_type": "stream",
     "text": [
      "C:\\Users\\ernan\\AppData\\Local\\Temp\\ipykernel_34104\\1104401823.py:9: FutureWarning: Downcasting object dtype arrays on .fillna, .ffill, .bfill is deprecated and will change in a future version. Call result.infer_objects(copy=False) instead. To opt-in to the future behavior, set `pd.set_option('future.no_silent_downcasting', True)`\n",
      "  df.fillna(0, inplace=True)\n",
      "C:\\Users\\ernan\\AppData\\Local\\Temp\\ipykernel_34104\\1104401823.py:9: FutureWarning: Downcasting object dtype arrays on .fillna, .ffill, .bfill is deprecated and will change in a future version. Call result.infer_objects(copy=False) instead. To opt-in to the future behavior, set `pd.set_option('future.no_silent_downcasting', True)`\n",
      "  df.fillna(0, inplace=True)\n"
     ]
    },
    {
     "name": "stdout",
     "output_type": "stream",
     "text": [
      "Dados do ano 1987 extraídos com sucesso.\n",
      "Dados do ano 1988 extraídos com sucesso.\n"
     ]
    },
    {
     "name": "stderr",
     "output_type": "stream",
     "text": [
      "C:\\Users\\ernan\\AppData\\Local\\Temp\\ipykernel_34104\\1104401823.py:9: FutureWarning: Downcasting object dtype arrays on .fillna, .ffill, .bfill is deprecated and will change in a future version. Call result.infer_objects(copy=False) instead. To opt-in to the future behavior, set `pd.set_option('future.no_silent_downcasting', True)`\n",
      "  df.fillna(0, inplace=True)\n",
      "C:\\Users\\ernan\\AppData\\Local\\Temp\\ipykernel_34104\\1104401823.py:9: FutureWarning: Downcasting object dtype arrays on .fillna, .ffill, .bfill is deprecated and will change in a future version. Call result.infer_objects(copy=False) instead. To opt-in to the future behavior, set `pd.set_option('future.no_silent_downcasting', True)`\n",
      "  df.fillna(0, inplace=True)\n"
     ]
    },
    {
     "name": "stdout",
     "output_type": "stream",
     "text": [
      "Dados do ano 1989 extraídos com sucesso.\n",
      "Dados do ano 1990 extraídos com sucesso.\n"
     ]
    },
    {
     "name": "stderr",
     "output_type": "stream",
     "text": [
      "C:\\Users\\ernan\\AppData\\Local\\Temp\\ipykernel_34104\\1104401823.py:9: FutureWarning: Downcasting object dtype arrays on .fillna, .ffill, .bfill is deprecated and will change in a future version. Call result.infer_objects(copy=False) instead. To opt-in to the future behavior, set `pd.set_option('future.no_silent_downcasting', True)`\n",
      "  df.fillna(0, inplace=True)\n",
      "C:\\Users\\ernan\\AppData\\Local\\Temp\\ipykernel_34104\\1104401823.py:9: FutureWarning: Downcasting object dtype arrays on .fillna, .ffill, .bfill is deprecated and will change in a future version. Call result.infer_objects(copy=False) instead. To opt-in to the future behavior, set `pd.set_option('future.no_silent_downcasting', True)`\n",
      "  df.fillna(0, inplace=True)\n"
     ]
    },
    {
     "name": "stdout",
     "output_type": "stream",
     "text": [
      "Dados do ano 1991 extraídos com sucesso.\n",
      "Dados do ano 1992 extraídos com sucesso.\n"
     ]
    },
    {
     "name": "stderr",
     "output_type": "stream",
     "text": [
      "C:\\Users\\ernan\\AppData\\Local\\Temp\\ipykernel_34104\\1104401823.py:9: FutureWarning: Downcasting object dtype arrays on .fillna, .ffill, .bfill is deprecated and will change in a future version. Call result.infer_objects(copy=False) instead. To opt-in to the future behavior, set `pd.set_option('future.no_silent_downcasting', True)`\n",
      "  df.fillna(0, inplace=True)\n",
      "C:\\Users\\ernan\\AppData\\Local\\Temp\\ipykernel_34104\\1104401823.py:9: FutureWarning: Downcasting object dtype arrays on .fillna, .ffill, .bfill is deprecated and will change in a future version. Call result.infer_objects(copy=False) instead. To opt-in to the future behavior, set `pd.set_option('future.no_silent_downcasting', True)`\n",
      "  df.fillna(0, inplace=True)\n"
     ]
    },
    {
     "name": "stdout",
     "output_type": "stream",
     "text": [
      "Dados do ano 1993 extraídos com sucesso.\n",
      "Dados do ano 1994 extraídos com sucesso.\n"
     ]
    },
    {
     "name": "stderr",
     "output_type": "stream",
     "text": [
      "C:\\Users\\ernan\\AppData\\Local\\Temp\\ipykernel_34104\\1104401823.py:9: FutureWarning: Downcasting object dtype arrays on .fillna, .ffill, .bfill is deprecated and will change in a future version. Call result.infer_objects(copy=False) instead. To opt-in to the future behavior, set `pd.set_option('future.no_silent_downcasting', True)`\n",
      "  df.fillna(0, inplace=True)\n",
      "C:\\Users\\ernan\\AppData\\Local\\Temp\\ipykernel_34104\\1104401823.py:9: FutureWarning: Downcasting object dtype arrays on .fillna, .ffill, .bfill is deprecated and will change in a future version. Call result.infer_objects(copy=False) instead. To opt-in to the future behavior, set `pd.set_option('future.no_silent_downcasting', True)`\n",
      "  df.fillna(0, inplace=True)\n"
     ]
    },
    {
     "name": "stdout",
     "output_type": "stream",
     "text": [
      "Dados do ano 1995 extraídos com sucesso.\n",
      "Dados do ano 1996 extraídos com sucesso.\n"
     ]
    },
    {
     "name": "stderr",
     "output_type": "stream",
     "text": [
      "C:\\Users\\ernan\\AppData\\Local\\Temp\\ipykernel_34104\\1104401823.py:9: FutureWarning: Downcasting object dtype arrays on .fillna, .ffill, .bfill is deprecated and will change in a future version. Call result.infer_objects(copy=False) instead. To opt-in to the future behavior, set `pd.set_option('future.no_silent_downcasting', True)`\n",
      "  df.fillna(0, inplace=True)\n",
      "C:\\Users\\ernan\\AppData\\Local\\Temp\\ipykernel_34104\\1104401823.py:9: FutureWarning: Downcasting object dtype arrays on .fillna, .ffill, .bfill is deprecated and will change in a future version. Call result.infer_objects(copy=False) instead. To opt-in to the future behavior, set `pd.set_option('future.no_silent_downcasting', True)`\n",
      "  df.fillna(0, inplace=True)\n"
     ]
    },
    {
     "name": "stdout",
     "output_type": "stream",
     "text": [
      "Dados do ano 1997 extraídos com sucesso.\n",
      "Dados do ano 1998 extraídos com sucesso.\n"
     ]
    },
    {
     "name": "stderr",
     "output_type": "stream",
     "text": [
      "C:\\Users\\ernan\\AppData\\Local\\Temp\\ipykernel_34104\\1104401823.py:9: FutureWarning: Downcasting object dtype arrays on .fillna, .ffill, .bfill is deprecated and will change in a future version. Call result.infer_objects(copy=False) instead. To opt-in to the future behavior, set `pd.set_option('future.no_silent_downcasting', True)`\n",
      "  df.fillna(0, inplace=True)\n",
      "C:\\Users\\ernan\\AppData\\Local\\Temp\\ipykernel_34104\\1104401823.py:9: FutureWarning: Downcasting object dtype arrays on .fillna, .ffill, .bfill is deprecated and will change in a future version. Call result.infer_objects(copy=False) instead. To opt-in to the future behavior, set `pd.set_option('future.no_silent_downcasting', True)`\n",
      "  df.fillna(0, inplace=True)\n"
     ]
    },
    {
     "name": "stdout",
     "output_type": "stream",
     "text": [
      "Dados do ano 1999 extraídos com sucesso.\n",
      "Dados do ano 2000 extraídos com sucesso.\n"
     ]
    },
    {
     "name": "stderr",
     "output_type": "stream",
     "text": [
      "C:\\Users\\ernan\\AppData\\Local\\Temp\\ipykernel_34104\\1104401823.py:9: FutureWarning: Downcasting object dtype arrays on .fillna, .ffill, .bfill is deprecated and will change in a future version. Call result.infer_objects(copy=False) instead. To opt-in to the future behavior, set `pd.set_option('future.no_silent_downcasting', True)`\n",
      "  df.fillna(0, inplace=True)\n",
      "C:\\Users\\ernan\\AppData\\Local\\Temp\\ipykernel_34104\\1104401823.py:9: FutureWarning: Downcasting object dtype arrays on .fillna, .ffill, .bfill is deprecated and will change in a future version. Call result.infer_objects(copy=False) instead. To opt-in to the future behavior, set `pd.set_option('future.no_silent_downcasting', True)`\n",
      "  df.fillna(0, inplace=True)\n"
     ]
    },
    {
     "name": "stdout",
     "output_type": "stream",
     "text": [
      "Dados do ano 2001 extraídos com sucesso.\n",
      "Dados do ano 2002 extraídos com sucesso.\n"
     ]
    },
    {
     "name": "stderr",
     "output_type": "stream",
     "text": [
      "C:\\Users\\ernan\\AppData\\Local\\Temp\\ipykernel_34104\\1104401823.py:9: FutureWarning: Downcasting object dtype arrays on .fillna, .ffill, .bfill is deprecated and will change in a future version. Call result.infer_objects(copy=False) instead. To opt-in to the future behavior, set `pd.set_option('future.no_silent_downcasting', True)`\n",
      "  df.fillna(0, inplace=True)\n",
      "C:\\Users\\ernan\\AppData\\Local\\Temp\\ipykernel_34104\\1104401823.py:9: FutureWarning: Downcasting object dtype arrays on .fillna, .ffill, .bfill is deprecated and will change in a future version. Call result.infer_objects(copy=False) instead. To opt-in to the future behavior, set `pd.set_option('future.no_silent_downcasting', True)`\n",
      "  df.fillna(0, inplace=True)\n"
     ]
    },
    {
     "name": "stdout",
     "output_type": "stream",
     "text": [
      "Dados do ano 2003 extraídos com sucesso.\n",
      "Dados do ano 2004 extraídos com sucesso.\n"
     ]
    },
    {
     "name": "stderr",
     "output_type": "stream",
     "text": [
      "C:\\Users\\ernan\\AppData\\Local\\Temp\\ipykernel_34104\\1104401823.py:9: FutureWarning: Downcasting object dtype arrays on .fillna, .ffill, .bfill is deprecated and will change in a future version. Call result.infer_objects(copy=False) instead. To opt-in to the future behavior, set `pd.set_option('future.no_silent_downcasting', True)`\n",
      "  df.fillna(0, inplace=True)\n",
      "C:\\Users\\ernan\\AppData\\Local\\Temp\\ipykernel_34104\\1104401823.py:9: FutureWarning: Downcasting object dtype arrays on .fillna, .ffill, .bfill is deprecated and will change in a future version. Call result.infer_objects(copy=False) instead. To opt-in to the future behavior, set `pd.set_option('future.no_silent_downcasting', True)`\n",
      "  df.fillna(0, inplace=True)\n"
     ]
    },
    {
     "name": "stdout",
     "output_type": "stream",
     "text": [
      "Dados do ano 2005 extraídos com sucesso.\n",
      "Dados do ano 2006 extraídos com sucesso.\n"
     ]
    },
    {
     "name": "stderr",
     "output_type": "stream",
     "text": [
      "C:\\Users\\ernan\\AppData\\Local\\Temp\\ipykernel_34104\\1104401823.py:9: FutureWarning: Downcasting object dtype arrays on .fillna, .ffill, .bfill is deprecated and will change in a future version. Call result.infer_objects(copy=False) instead. To opt-in to the future behavior, set `pd.set_option('future.no_silent_downcasting', True)`\n",
      "  df.fillna(0, inplace=True)\n",
      "C:\\Users\\ernan\\AppData\\Local\\Temp\\ipykernel_34104\\1104401823.py:9: FutureWarning: Downcasting object dtype arrays on .fillna, .ffill, .bfill is deprecated and will change in a future version. Call result.infer_objects(copy=False) instead. To opt-in to the future behavior, set `pd.set_option('future.no_silent_downcasting', True)`\n",
      "  df.fillna(0, inplace=True)\n"
     ]
    },
    {
     "name": "stdout",
     "output_type": "stream",
     "text": [
      "Dados do ano 2007 extraídos com sucesso.\n",
      "Dados do ano 2008 extraídos com sucesso.\n"
     ]
    },
    {
     "name": "stderr",
     "output_type": "stream",
     "text": [
      "C:\\Users\\ernan\\AppData\\Local\\Temp\\ipykernel_34104\\1104401823.py:9: FutureWarning: Downcasting object dtype arrays on .fillna, .ffill, .bfill is deprecated and will change in a future version. Call result.infer_objects(copy=False) instead. To opt-in to the future behavior, set `pd.set_option('future.no_silent_downcasting', True)`\n",
      "  df.fillna(0, inplace=True)\n",
      "C:\\Users\\ernan\\AppData\\Local\\Temp\\ipykernel_34104\\1104401823.py:9: FutureWarning: Downcasting object dtype arrays on .fillna, .ffill, .bfill is deprecated and will change in a future version. Call result.infer_objects(copy=False) instead. To opt-in to the future behavior, set `pd.set_option('future.no_silent_downcasting', True)`\n",
      "  df.fillna(0, inplace=True)\n"
     ]
    },
    {
     "name": "stdout",
     "output_type": "stream",
     "text": [
      "Dados do ano 2009 extraídos com sucesso.\n",
      "Dados do ano 2010 extraídos com sucesso.\n"
     ]
    },
    {
     "name": "stderr",
     "output_type": "stream",
     "text": [
      "C:\\Users\\ernan\\AppData\\Local\\Temp\\ipykernel_34104\\1104401823.py:9: FutureWarning: Downcasting object dtype arrays on .fillna, .ffill, .bfill is deprecated and will change in a future version. Call result.infer_objects(copy=False) instead. To opt-in to the future behavior, set `pd.set_option('future.no_silent_downcasting', True)`\n",
      "  df.fillna(0, inplace=True)\n",
      "C:\\Users\\ernan\\AppData\\Local\\Temp\\ipykernel_34104\\1104401823.py:9: FutureWarning: Downcasting object dtype arrays on .fillna, .ffill, .bfill is deprecated and will change in a future version. Call result.infer_objects(copy=False) instead. To opt-in to the future behavior, set `pd.set_option('future.no_silent_downcasting', True)`\n",
      "  df.fillna(0, inplace=True)\n"
     ]
    },
    {
     "name": "stdout",
     "output_type": "stream",
     "text": [
      "Dados do ano 2011 extraídos com sucesso.\n",
      "Dados do ano 2012 extraídos com sucesso.\n"
     ]
    },
    {
     "name": "stderr",
     "output_type": "stream",
     "text": [
      "C:\\Users\\ernan\\AppData\\Local\\Temp\\ipykernel_34104\\1104401823.py:9: FutureWarning: Downcasting object dtype arrays on .fillna, .ffill, .bfill is deprecated and will change in a future version. Call result.infer_objects(copy=False) instead. To opt-in to the future behavior, set `pd.set_option('future.no_silent_downcasting', True)`\n",
      "  df.fillna(0, inplace=True)\n",
      "C:\\Users\\ernan\\AppData\\Local\\Temp\\ipykernel_34104\\1104401823.py:9: FutureWarning: Downcasting object dtype arrays on .fillna, .ffill, .bfill is deprecated and will change in a future version. Call result.infer_objects(copy=False) instead. To opt-in to the future behavior, set `pd.set_option('future.no_silent_downcasting', True)`\n",
      "  df.fillna(0, inplace=True)\n"
     ]
    },
    {
     "name": "stdout",
     "output_type": "stream",
     "text": [
      "Dados do ano 2013 extraídos com sucesso.\n",
      "Dados do ano 2014 extraídos com sucesso.\n"
     ]
    },
    {
     "name": "stderr",
     "output_type": "stream",
     "text": [
      "C:\\Users\\ernan\\AppData\\Local\\Temp\\ipykernel_34104\\1104401823.py:9: FutureWarning: Downcasting object dtype arrays on .fillna, .ffill, .bfill is deprecated and will change in a future version. Call result.infer_objects(copy=False) instead. To opt-in to the future behavior, set `pd.set_option('future.no_silent_downcasting', True)`\n",
      "  df.fillna(0, inplace=True)\n"
     ]
    },
    {
     "name": "stdout",
     "output_type": "stream",
     "text": [
      "Dados do ano 2015 extraídos com sucesso.\n"
     ]
    },
    {
     "name": "stderr",
     "output_type": "stream",
     "text": [
      "C:\\Users\\ernan\\AppData\\Local\\Temp\\ipykernel_34104\\1104401823.py:9: FutureWarning: Downcasting object dtype arrays on .fillna, .ffill, .bfill is deprecated and will change in a future version. Call result.infer_objects(copy=False) instead. To opt-in to the future behavior, set `pd.set_option('future.no_silent_downcasting', True)`\n",
      "  df.fillna(0, inplace=True)\n"
     ]
    },
    {
     "name": "stdout",
     "output_type": "stream",
     "text": [
      "Dados do ano 2016 extraídos com sucesso.\n"
     ]
    },
    {
     "name": "stderr",
     "output_type": "stream",
     "text": [
      "C:\\Users\\ernan\\AppData\\Local\\Temp\\ipykernel_34104\\1104401823.py:9: FutureWarning: Downcasting object dtype arrays on .fillna, .ffill, .bfill is deprecated and will change in a future version. Call result.infer_objects(copy=False) instead. To opt-in to the future behavior, set `pd.set_option('future.no_silent_downcasting', True)`\n",
      "  df.fillna(0, inplace=True)\n"
     ]
    },
    {
     "name": "stdout",
     "output_type": "stream",
     "text": [
      "Dados do ano 2017 extraídos com sucesso.\n"
     ]
    },
    {
     "name": "stderr",
     "output_type": "stream",
     "text": [
      "C:\\Users\\ernan\\AppData\\Local\\Temp\\ipykernel_34104\\1104401823.py:9: FutureWarning: Downcasting object dtype arrays on .fillna, .ffill, .bfill is deprecated and will change in a future version. Call result.infer_objects(copy=False) instead. To opt-in to the future behavior, set `pd.set_option('future.no_silent_downcasting', True)`\n",
      "  df.fillna(0, inplace=True)\n"
     ]
    },
    {
     "name": "stdout",
     "output_type": "stream",
     "text": [
      "Dados do ano 2018 extraídos com sucesso.\n"
     ]
    },
    {
     "name": "stderr",
     "output_type": "stream",
     "text": [
      "C:\\Users\\ernan\\AppData\\Local\\Temp\\ipykernel_34104\\1104401823.py:9: FutureWarning: Downcasting object dtype arrays on .fillna, .ffill, .bfill is deprecated and will change in a future version. Call result.infer_objects(copy=False) instead. To opt-in to the future behavior, set `pd.set_option('future.no_silent_downcasting', True)`\n",
      "  df.fillna(0, inplace=True)\n"
     ]
    },
    {
     "name": "stdout",
     "output_type": "stream",
     "text": [
      "Dados do ano 2019 extraídos com sucesso.\n"
     ]
    },
    {
     "name": "stderr",
     "output_type": "stream",
     "text": [
      "C:\\Users\\ernan\\AppData\\Local\\Temp\\ipykernel_34104\\1104401823.py:9: FutureWarning: Downcasting object dtype arrays on .fillna, .ffill, .bfill is deprecated and will change in a future version. Call result.infer_objects(copy=False) instead. To opt-in to the future behavior, set `pd.set_option('future.no_silent_downcasting', True)`\n",
      "  df.fillna(0, inplace=True)\n"
     ]
    },
    {
     "name": "stdout",
     "output_type": "stream",
     "text": [
      "Dados do ano 2020 extraídos com sucesso.\n"
     ]
    },
    {
     "name": "stderr",
     "output_type": "stream",
     "text": [
      "C:\\Users\\ernan\\AppData\\Local\\Temp\\ipykernel_34104\\1104401823.py:9: FutureWarning: Downcasting object dtype arrays on .fillna, .ffill, .bfill is deprecated and will change in a future version. Call result.infer_objects(copy=False) instead. To opt-in to the future behavior, set `pd.set_option('future.no_silent_downcasting', True)`\n",
      "  df.fillna(0, inplace=True)\n"
     ]
    },
    {
     "name": "stdout",
     "output_type": "stream",
     "text": [
      "Dados do ano 2021 extraídos com sucesso.\n"
     ]
    },
    {
     "name": "stderr",
     "output_type": "stream",
     "text": [
      "C:\\Users\\ernan\\AppData\\Local\\Temp\\ipykernel_34104\\1104401823.py:9: FutureWarning: Downcasting object dtype arrays on .fillna, .ffill, .bfill is deprecated and will change in a future version. Call result.infer_objects(copy=False) instead. To opt-in to the future behavior, set `pd.set_option('future.no_silent_downcasting', True)`\n",
      "  df.fillna(0, inplace=True)\n"
     ]
    },
    {
     "name": "stdout",
     "output_type": "stream",
     "text": [
      "Dados do ano 2022 extraídos com sucesso.\n"
     ]
    },
    {
     "name": "stderr",
     "output_type": "stream",
     "text": [
      "C:\\Users\\ernan\\AppData\\Local\\Temp\\ipykernel_34104\\1104401823.py:9: FutureWarning: Downcasting object dtype arrays on .fillna, .ffill, .bfill is deprecated and will change in a future version. Call result.infer_objects(copy=False) instead. To opt-in to the future behavior, set `pd.set_option('future.no_silent_downcasting', True)`\n",
      "  df.fillna(0, inplace=True)\n"
     ]
    },
    {
     "name": "stdout",
     "output_type": "stream",
     "text": [
      "Dados do ano 2023 extraídos com sucesso.\n",
      "uvas_sem_classificacao_processadas\n",
      "8 registros inseridos com sucesso em uvas_sem_classificacao_processadas.\n",
      "Dados do ano 1970 extraídos com sucesso.\n",
      "Dados do ano 1971 extraídos com sucesso.\n",
      "Dados do ano 1972 extraídos com sucesso.\n",
      "Dados do ano 1973 extraídos com sucesso.\n",
      "Dados do ano 1974 extraídos com sucesso.\n",
      "Dados do ano 1975 extraídos com sucesso.\n",
      "Dados do ano 1976 extraídos com sucesso.\n",
      "Dados do ano 1977 extraídos com sucesso.\n",
      "Dados do ano 1978 extraídos com sucesso.\n",
      "Dados do ano 1979 extraídos com sucesso.\n",
      "Dados do ano 1980 extraídos com sucesso.\n",
      "Dados do ano 1981 extraídos com sucesso.\n",
      "Dados do ano 1982 extraídos com sucesso.\n",
      "Dados do ano 1983 extraídos com sucesso.\n",
      "Dados do ano 1984 extraídos com sucesso.\n",
      "Dados do ano 1985 extraídos com sucesso.\n",
      "Dados do ano 1986 extraídos com sucesso.\n",
      "Dados do ano 1987 extraídos com sucesso.\n",
      "Dados do ano 1988 extraídos com sucesso.\n",
      "Dados do ano 1989 extraídos com sucesso.\n",
      "Dados do ano 1990 extraídos com sucesso.\n",
      "Dados do ano 1991 extraídos com sucesso.\n",
      "Dados do ano 1992 extraídos com sucesso.\n",
      "Dados do ano 1993 extraídos com sucesso.\n",
      "Dados do ano 1994 extraídos com sucesso.\n",
      "Dados do ano 1995 extraídos com sucesso.\n",
      "Dados do ano 1996 extraídos com sucesso.\n",
      "Dados do ano 1997 extraídos com sucesso.\n",
      "Dados do ano 1998 extraídos com sucesso.\n",
      "Dados do ano 1999 extraídos com sucesso.\n",
      "Dados do ano 2000 extraídos com sucesso.\n",
      "Dados do ano 2001 extraídos com sucesso.\n",
      "Dados do ano 2002 extraídos com sucesso.\n",
      "Dados do ano 2003 extraídos com sucesso.\n",
      "Dados do ano 2004 extraídos com sucesso.\n",
      "Dados do ano 2005 extraídos com sucesso.\n",
      "Dados do ano 2006 extraídos com sucesso.\n",
      "Dados do ano 2007 extraídos com sucesso.\n",
      "Dados do ano 2008 extraídos com sucesso.\n",
      "Dados do ano 2009 extraídos com sucesso.\n",
      "Dados do ano 2010 extraídos com sucesso.\n",
      "Dados do ano 2011 extraídos com sucesso.\n",
      "Dados do ano 2012 extraídos com sucesso.\n",
      "Dados do ano 2013 extraídos com sucesso.\n",
      "Dados do ano 2014 extraídos com sucesso.\n",
      "Dados do ano 2015 extraídos com sucesso.\n",
      "Dados do ano 2016 extraídos com sucesso.\n",
      "Dados do ano 2017 extraídos com sucesso.\n",
      "Dados do ano 2018 extraídos com sucesso.\n",
      "Dados do ano 2019 extraídos com sucesso.\n",
      "Dados do ano 2020 extraídos com sucesso.\n",
      "Dados do ano 2021 extraídos com sucesso.\n",
      "Dados do ano 2022 extraídos com sucesso.\n",
      "Dados do ano 2023 extraídos com sucesso.\n",
      "comercializacao_vinhos_derivados\n",
      "16 registros inseridos com sucesso em comercializacao_vinhos_derivados.\n",
      "Dados do ano 1970 extraídos com sucesso.\n",
      "Dados do ano 1971 extraídos com sucesso.\n",
      "Dados do ano 1972 extraídos com sucesso.\n",
      "Dados do ano 1973 extraídos com sucesso.\n",
      "Dados do ano 1974 extraídos com sucesso.\n",
      "Dados do ano 1975 extraídos com sucesso.\n",
      "Dados do ano 1976 extraídos com sucesso.\n",
      "Dados do ano 1977 extraídos com sucesso.\n",
      "Dados do ano 1978 extraídos com sucesso.\n",
      "Dados do ano 1979 extraídos com sucesso.\n",
      "Dados do ano 1980 extraídos com sucesso.\n",
      "Dados do ano 1981 extraídos com sucesso.\n",
      "Dados do ano 1982 extraídos com sucesso.\n",
      "Dados do ano 1983 extraídos com sucesso.\n",
      "Dados do ano 1984 extraídos com sucesso.\n",
      "Dados do ano 1985 extraídos com sucesso.\n",
      "Dados do ano 1986 extraídos com sucesso.\n",
      "Dados do ano 1987 extraídos com sucesso.\n",
      "Dados do ano 1988 extraídos com sucesso.\n",
      "Dados do ano 1989 extraídos com sucesso.\n",
      "Dados do ano 1990 extraídos com sucesso.\n",
      "Dados do ano 1991 extraídos com sucesso.\n",
      "Dados do ano 1992 extraídos com sucesso.\n",
      "Dados do ano 1993 extraídos com sucesso.\n",
      "Dados do ano 1994 extraídos com sucesso.\n",
      "Dados do ano 1995 extraídos com sucesso.\n",
      "Dados do ano 1996 extraídos com sucesso.\n",
      "Dados do ano 1997 extraídos com sucesso.\n",
      "Dados do ano 1998 extraídos com sucesso.\n",
      "Dados do ano 1999 extraídos com sucesso.\n",
      "Dados do ano 2000 extraídos com sucesso.\n",
      "Dados do ano 2001 extraídos com sucesso.\n",
      "Dados do ano 2002 extraídos com sucesso.\n",
      "Dados do ano 2003 extraídos com sucesso.\n",
      "Dados do ano 2004 extraídos com sucesso.\n",
      "Dados do ano 2005 extraídos com sucesso.\n",
      "Dados do ano 2006 extraídos com sucesso.\n",
      "Dados do ano 2007 extraídos com sucesso.\n",
      "Dados do ano 2008 extraídos com sucesso.\n",
      "Dados do ano 2009 extraídos com sucesso.\n",
      "Dados do ano 2010 extraídos com sucesso.\n",
      "Dados do ano 2011 extraídos com sucesso.\n",
      "Dados do ano 2012 extraídos com sucesso.\n",
      "Dados do ano 2013 extraídos com sucesso.\n",
      "Dados do ano 2014 extraídos com sucesso.\n",
      "Dados do ano 2015 extraídos com sucesso.\n",
      "Dados do ano 2016 extraídos com sucesso.\n",
      "Dados do ano 2017 extraídos com sucesso.\n",
      "Dados do ano 2018 extraídos com sucesso.\n",
      "Dados do ano 2019 extraídos com sucesso.\n",
      "Dados do ano 2020 extraídos com sucesso.\n",
      "Dados do ano 2021 extraídos com sucesso.\n",
      "Dados do ano 2022 extraídos com sucesso.\n",
      "Dados do ano 2023 extraídos com sucesso.\n",
      "importacao_vinhos_mesa\n",
      "26 registros inseridos com sucesso em importacao_vinhos_mesa.\n",
      "Dados do ano 1970 extraídos com sucesso.\n",
      "Dados do ano 1971 extraídos com sucesso.\n",
      "Dados do ano 1972 extraídos com sucesso.\n",
      "Dados do ano 1973 extraídos com sucesso.\n",
      "Dados do ano 1974 extraídos com sucesso.\n",
      "Dados do ano 1975 extraídos com sucesso.\n",
      "Dados do ano 1976 extraídos com sucesso.\n",
      "Dados do ano 1977 extraídos com sucesso.\n",
      "Dados do ano 1978 extraídos com sucesso.\n",
      "Dados do ano 1979 extraídos com sucesso.\n",
      "Dados do ano 1980 extraídos com sucesso.\n",
      "Dados do ano 1981 extraídos com sucesso.\n",
      "Dados do ano 1982 extraídos com sucesso.\n",
      "Dados do ano 1983 extraídos com sucesso.\n",
      "Dados do ano 1984 extraídos com sucesso.\n",
      "Dados do ano 1985 extraídos com sucesso.\n",
      "Dados do ano 1986 extraídos com sucesso.\n",
      "Dados do ano 1987 extraídos com sucesso.\n",
      "Dados do ano 1988 extraídos com sucesso.\n",
      "Dados do ano 1989 extraídos com sucesso.\n",
      "Dados do ano 1990 extraídos com sucesso.\n",
      "Dados do ano 1991 extraídos com sucesso.\n",
      "Dados do ano 1992 extraídos com sucesso.\n",
      "Dados do ano 1993 extraídos com sucesso.\n",
      "Dados do ano 1994 extraídos com sucesso.\n",
      "Dados do ano 1995 extraídos com sucesso.\n",
      "Dados do ano 1996 extraídos com sucesso.\n",
      "Dados do ano 1997 extraídos com sucesso.\n",
      "Dados do ano 1998 extraídos com sucesso.\n",
      "Dados do ano 1999 extraídos com sucesso.\n",
      "Dados do ano 2000 extraídos com sucesso.\n",
      "Dados do ano 2001 extraídos com sucesso.\n",
      "Dados do ano 2002 extraídos com sucesso.\n",
      "Dados do ano 2003 extraídos com sucesso.\n",
      "Dados do ano 2004 extraídos com sucesso.\n",
      "Dados do ano 2005 extraídos com sucesso.\n",
      "Dados do ano 2006 extraídos com sucesso.\n",
      "Dados do ano 2007 extraídos com sucesso.\n",
      "Dados do ano 2008 extraídos com sucesso.\n",
      "Dados do ano 2009 extraídos com sucesso.\n",
      "Dados do ano 2010 extraídos com sucesso.\n",
      "Dados do ano 2011 extraídos com sucesso.\n",
      "Dados do ano 2012 extraídos com sucesso.\n",
      "Dados do ano 2013 extraídos com sucesso.\n",
      "Dados do ano 2014 extraídos com sucesso.\n",
      "Dados do ano 2015 extraídos com sucesso.\n",
      "Dados do ano 2016 extraídos com sucesso.\n",
      "Dados do ano 2017 extraídos com sucesso.\n",
      "Dados do ano 2018 extraídos com sucesso.\n",
      "Dados do ano 2019 extraídos com sucesso.\n",
      "Dados do ano 2020 extraídos com sucesso.\n",
      "Dados do ano 2021 extraídos com sucesso.\n",
      "Dados do ano 2022 extraídos com sucesso.\n",
      "Dados do ano 2023 extraídos com sucesso.\n",
      "importacao_espumantes\n",
      "84 registros inseridos com sucesso em importacao_espumantes.\n",
      "Dados do ano 1970 extraídos com sucesso.\n",
      "Dados do ano 1971 extraídos com sucesso.\n",
      "Dados do ano 1972 extraídos com sucesso.\n",
      "Dados do ano 1973 extraídos com sucesso.\n",
      "Dados do ano 1974 extraídos com sucesso.\n",
      "Dados do ano 1975 extraídos com sucesso.\n",
      "Dados do ano 1976 extraídos com sucesso.\n",
      "Dados do ano 1977 extraídos com sucesso.\n",
      "Dados do ano 1978 extraídos com sucesso.\n",
      "Dados do ano 1979 extraídos com sucesso.\n",
      "Dados do ano 1980 extraídos com sucesso.\n",
      "Dados do ano 1981 extraídos com sucesso.\n",
      "Dados do ano 1982 extraídos com sucesso.\n",
      "Dados do ano 1983 extraídos com sucesso.\n",
      "Dados do ano 1984 extraídos com sucesso.\n",
      "Dados do ano 1985 extraídos com sucesso.\n",
      "Dados do ano 1986 extraídos com sucesso.\n",
      "Dados do ano 1987 extraídos com sucesso.\n",
      "Dados do ano 1988 extraídos com sucesso.\n",
      "Dados do ano 1989 extraídos com sucesso.\n",
      "Dados do ano 1990 extraídos com sucesso.\n",
      "Dados do ano 1991 extraídos com sucesso.\n",
      "Dados do ano 1992 extraídos com sucesso.\n",
      "Dados do ano 1993 extraídos com sucesso.\n",
      "Dados do ano 1994 extraídos com sucesso.\n",
      "Dados do ano 1995 extraídos com sucesso.\n",
      "Dados do ano 1996 extraídos com sucesso.\n",
      "Dados do ano 1997 extraídos com sucesso.\n",
      "Dados do ano 1998 extraídos com sucesso.\n",
      "Dados do ano 1999 extraídos com sucesso.\n",
      "Dados do ano 2000 extraídos com sucesso.\n",
      "Dados do ano 2001 extraídos com sucesso.\n",
      "Dados do ano 2002 extraídos com sucesso.\n",
      "Dados do ano 2003 extraídos com sucesso.\n",
      "Dados do ano 2004 extraídos com sucesso.\n",
      "Dados do ano 2005 extraídos com sucesso.\n",
      "Dados do ano 2006 extraídos com sucesso.\n",
      "Dados do ano 2007 extraídos com sucesso.\n",
      "Dados do ano 2008 extraídos com sucesso.\n",
      "Dados do ano 2009 extraídos com sucesso.\n",
      "Dados do ano 2010 extraídos com sucesso.\n",
      "Dados do ano 2011 extraídos com sucesso.\n",
      "Dados do ano 2012 extraídos com sucesso.\n",
      "Dados do ano 2013 extraídos com sucesso.\n",
      "Dados do ano 2014 extraídos com sucesso.\n",
      "Dados do ano 2015 extraídos com sucesso.\n",
      "Dados do ano 2016 extraídos com sucesso.\n",
      "Dados do ano 2017 extraídos com sucesso.\n",
      "Dados do ano 2018 extraídos com sucesso.\n",
      "Dados do ano 2019 extraídos com sucesso.\n",
      "Dados do ano 2020 extraídos com sucesso.\n",
      "Dados do ano 2021 extraídos com sucesso.\n",
      "Dados do ano 2022 extraídos com sucesso.\n",
      "Dados do ano 2023 extraídos com sucesso.\n",
      "importacao_uvas_frescas\n",
      "34 registros inseridos com sucesso em importacao_uvas_frescas.\n",
      "Dados do ano 1970 extraídos com sucesso.\n",
      "Dados do ano 1971 extraídos com sucesso.\n",
      "Dados do ano 1972 extraídos com sucesso.\n",
      "Dados do ano 1973 extraídos com sucesso.\n",
      "Dados do ano 1974 extraídos com sucesso.\n",
      "Dados do ano 1975 extraídos com sucesso.\n",
      "Dados do ano 1976 extraídos com sucesso.\n",
      "Dados do ano 1977 extraídos com sucesso.\n",
      "Dados do ano 1978 extraídos com sucesso.\n",
      "Dados do ano 1979 extraídos com sucesso.\n",
      "Dados do ano 1980 extraídos com sucesso.\n",
      "Dados do ano 1981 extraídos com sucesso.\n",
      "Dados do ano 1982 extraídos com sucesso.\n",
      "Dados do ano 1983 extraídos com sucesso.\n",
      "Dados do ano 1984 extraídos com sucesso.\n",
      "Dados do ano 1985 extraídos com sucesso.\n",
      "Dados do ano 1986 extraídos com sucesso.\n",
      "Dados do ano 1987 extraídos com sucesso.\n",
      "Dados do ano 1988 extraídos com sucesso.\n",
      "Dados do ano 1989 extraídos com sucesso.\n",
      "Dados do ano 1990 extraídos com sucesso.\n",
      "Dados do ano 1991 extraídos com sucesso.\n",
      "Dados do ano 1992 extraídos com sucesso.\n",
      "Dados do ano 1993 extraídos com sucesso.\n",
      "Dados do ano 1994 extraídos com sucesso.\n",
      "Dados do ano 1995 extraídos com sucesso.\n",
      "Dados do ano 1996 extraídos com sucesso.\n",
      "Dados do ano 1997 extraídos com sucesso.\n",
      "Dados do ano 1998 extraídos com sucesso.\n",
      "Dados do ano 1999 extraídos com sucesso.\n",
      "Dados do ano 2000 extraídos com sucesso.\n",
      "Dados do ano 2001 extraídos com sucesso.\n",
      "Dados do ano 2002 extraídos com sucesso.\n",
      "Dados do ano 2003 extraídos com sucesso.\n",
      "Dados do ano 2004 extraídos com sucesso.\n",
      "Dados do ano 2005 extraídos com sucesso.\n",
      "Dados do ano 2006 extraídos com sucesso.\n",
      "Dados do ano 2007 extraídos com sucesso.\n",
      "Dados do ano 2008 extraídos com sucesso.\n",
      "Dados do ano 2009 extraídos com sucesso.\n",
      "Dados do ano 2010 extraídos com sucesso.\n",
      "Dados do ano 2011 extraídos com sucesso.\n",
      "Dados do ano 2012 extraídos com sucesso.\n",
      "Dados do ano 2013 extraídos com sucesso.\n",
      "Dados do ano 2014 extraídos com sucesso.\n",
      "Dados do ano 2015 extraídos com sucesso.\n",
      "Dados do ano 2016 extraídos com sucesso.\n",
      "Dados do ano 2017 extraídos com sucesso.\n",
      "Dados do ano 2018 extraídos com sucesso.\n",
      "Dados do ano 2019 extraídos com sucesso.\n",
      "Dados do ano 2020 extraídos com sucesso.\n",
      "Dados do ano 2021 extraídos com sucesso.\n",
      "Dados do ano 2022 extraídos com sucesso.\n",
      "Dados do ano 2023 extraídos com sucesso.\n",
      "importacao_uvas_passas\n",
      "44 registros inseridos com sucesso em importacao_uvas_passas.\n",
      "Dados do ano 1970 extraídos com sucesso.\n",
      "Dados do ano 1971 extraídos com sucesso.\n",
      "Dados do ano 1972 extraídos com sucesso.\n",
      "Dados do ano 1973 extraídos com sucesso.\n",
      "Dados do ano 1974 extraídos com sucesso.\n",
      "Dados do ano 1975 extraídos com sucesso.\n",
      "Dados do ano 1976 extraídos com sucesso.\n",
      "Dados do ano 1977 extraídos com sucesso.\n",
      "Dados do ano 1978 extraídos com sucesso.\n",
      "Dados do ano 1979 extraídos com sucesso.\n",
      "Dados do ano 1980 extraídos com sucesso.\n",
      "Dados do ano 1981 extraídos com sucesso.\n",
      "Dados do ano 1982 extraídos com sucesso.\n",
      "Dados do ano 1983 extraídos com sucesso.\n",
      "Dados do ano 1984 extraídos com sucesso.\n",
      "Dados do ano 1985 extraídos com sucesso.\n",
      "Dados do ano 1986 extraídos com sucesso.\n",
      "Dados do ano 1987 extraídos com sucesso.\n",
      "Dados do ano 1988 extraídos com sucesso.\n",
      "Dados do ano 1989 extraídos com sucesso.\n",
      "Dados do ano 1990 extraídos com sucesso.\n",
      "Dados do ano 1991 extraídos com sucesso.\n",
      "Dados do ano 1992 extraídos com sucesso.\n",
      "Dados do ano 1993 extraídos com sucesso.\n",
      "Dados do ano 1994 extraídos com sucesso.\n",
      "Dados do ano 1995 extraídos com sucesso.\n",
      "Dados do ano 1996 extraídos com sucesso.\n",
      "Dados do ano 1997 extraídos com sucesso.\n",
      "Dados do ano 1998 extraídos com sucesso.\n",
      "Dados do ano 1999 extraídos com sucesso.\n",
      "Dados do ano 2000 extraídos com sucesso.\n",
      "Dados do ano 2001 extraídos com sucesso.\n",
      "Dados do ano 2002 extraídos com sucesso.\n",
      "Dados do ano 2003 extraídos com sucesso.\n",
      "Dados do ano 2004 extraídos com sucesso.\n",
      "Dados do ano 2005 extraídos com sucesso.\n",
      "Dados do ano 2006 extraídos com sucesso.\n",
      "Dados do ano 2007 extraídos com sucesso.\n",
      "Dados do ano 2008 extraídos com sucesso.\n",
      "Dados do ano 2009 extraídos com sucesso.\n",
      "Dados do ano 2010 extraídos com sucesso.\n",
      "Dados do ano 2011 extraídos com sucesso.\n",
      "Dados do ano 2012 extraídos com sucesso.\n",
      "Dados do ano 2013 extraídos com sucesso.\n",
      "Dados do ano 2014 extraídos com sucesso.\n",
      "Dados do ano 2015 extraídos com sucesso.\n",
      "Dados do ano 2016 extraídos com sucesso.\n",
      "Dados do ano 2017 extraídos com sucesso.\n",
      "Dados do ano 2018 extraídos com sucesso.\n",
      "Dados do ano 2019 extraídos com sucesso.\n",
      "Dados do ano 2020 extraídos com sucesso.\n",
      "Dados do ano 2021 extraídos com sucesso.\n",
      "Dados do ano 2022 extraídos com sucesso.\n",
      "Dados do ano 2023 extraídos com sucesso.\n",
      "importacao_suco_uva\n",
      "20 registros inseridos com sucesso em importacao_suco_uva.\n",
      "Dados do ano 1970 extraídos com sucesso.\n",
      "Dados do ano 1971 extraídos com sucesso.\n",
      "Dados do ano 1972 extraídos com sucesso.\n",
      "Dados do ano 1973 extraídos com sucesso.\n",
      "Dados do ano 1974 extraídos com sucesso.\n",
      "Dados do ano 1975 extraídos com sucesso.\n",
      "Dados do ano 1976 extraídos com sucesso.\n",
      "Dados do ano 1977 extraídos com sucesso.\n",
      "Dados do ano 1978 extraídos com sucesso.\n",
      "Dados do ano 1979 extraídos com sucesso.\n",
      "Dados do ano 1980 extraídos com sucesso.\n",
      "Dados do ano 1981 extraídos com sucesso.\n",
      "Dados do ano 1982 extraídos com sucesso.\n",
      "Dados do ano 1983 extraídos com sucesso.\n",
      "Dados do ano 1984 extraídos com sucesso.\n",
      "Dados do ano 1985 extraídos com sucesso.\n",
      "Dados do ano 1986 extraídos com sucesso.\n",
      "Dados do ano 1987 extraídos com sucesso.\n",
      "Dados do ano 1988 extraídos com sucesso.\n",
      "Dados do ano 1989 extraídos com sucesso.\n",
      "Dados do ano 1990 extraídos com sucesso.\n",
      "Dados do ano 1991 extraídos com sucesso.\n",
      "Dados do ano 1992 extraídos com sucesso.\n",
      "Dados do ano 1993 extraídos com sucesso.\n",
      "Dados do ano 1994 extraídos com sucesso.\n",
      "Dados do ano 1995 extraídos com sucesso.\n",
      "Dados do ano 1996 extraídos com sucesso.\n",
      "Dados do ano 1997 extraídos com sucesso.\n",
      "Dados do ano 1998 extraídos com sucesso.\n",
      "Dados do ano 1999 extraídos com sucesso.\n",
      "Dados do ano 2000 extraídos com sucesso.\n",
      "Dados do ano 2001 extraídos com sucesso.\n",
      "Dados do ano 2002 extraídos com sucesso.\n",
      "Dados do ano 2003 extraídos com sucesso.\n",
      "Dados do ano 2004 extraídos com sucesso.\n",
      "Dados do ano 2005 extraídos com sucesso.\n",
      "Dados do ano 2006 extraídos com sucesso.\n",
      "Dados do ano 2007 extraídos com sucesso.\n",
      "Dados do ano 2008 extraídos com sucesso.\n",
      "Dados do ano 2009 extraídos com sucesso.\n",
      "Dados do ano 2010 extraídos com sucesso.\n",
      "Dados do ano 2011 extraídos com sucesso.\n",
      "Dados do ano 2012 extraídos com sucesso.\n",
      "Dados do ano 2013 extraídos com sucesso.\n",
      "Dados do ano 2014 extraídos com sucesso.\n",
      "Dados do ano 2015 extraídos com sucesso.\n",
      "Dados do ano 2016 extraídos com sucesso.\n",
      "Dados do ano 2017 extraídos com sucesso.\n",
      "Dados do ano 2018 extraídos com sucesso.\n",
      "Dados do ano 2019 extraídos com sucesso.\n",
      "Dados do ano 2020 extraídos com sucesso.\n",
      "Dados do ano 2021 extraídos com sucesso.\n",
      "Dados do ano 2022 extraídos com sucesso.\n",
      "Dados do ano 2023 extraídos com sucesso.\n",
      "exportacao_vinhos_mesa\n",
      "52 registros inseridos com sucesso em exportacao_vinhos_mesa.\n",
      "Dados do ano 1970 extraídos com sucesso.\n",
      "Dados do ano 1971 extraídos com sucesso.\n",
      "Dados do ano 1972 extraídos com sucesso.\n",
      "Dados do ano 1973 extraídos com sucesso.\n",
      "Dados do ano 1974 extraídos com sucesso.\n",
      "Dados do ano 1975 extraídos com sucesso.\n",
      "Dados do ano 1976 extraídos com sucesso.\n",
      "Dados do ano 1977 extraídos com sucesso.\n",
      "Dados do ano 1978 extraídos com sucesso.\n",
      "Dados do ano 1979 extraídos com sucesso.\n",
      "Dados do ano 1980 extraídos com sucesso.\n",
      "Dados do ano 1981 extraídos com sucesso.\n",
      "Dados do ano 1982 extraídos com sucesso.\n",
      "Dados do ano 1983 extraídos com sucesso.\n",
      "Dados do ano 1984 extraídos com sucesso.\n",
      "Dados do ano 1985 extraídos com sucesso.\n",
      "Dados do ano 1986 extraídos com sucesso.\n",
      "Dados do ano 1987 extraídos com sucesso.\n",
      "Dados do ano 1988 extraídos com sucesso.\n",
      "Dados do ano 1989 extraídos com sucesso.\n",
      "Dados do ano 1990 extraídos com sucesso.\n",
      "Dados do ano 1991 extraídos com sucesso.\n",
      "Dados do ano 1992 extraídos com sucesso.\n",
      "Dados do ano 1993 extraídos com sucesso.\n",
      "Dados do ano 1994 extraídos com sucesso.\n",
      "Dados do ano 1995 extraídos com sucesso.\n",
      "Dados do ano 1996 extraídos com sucesso.\n",
      "Dados do ano 1997 extraídos com sucesso.\n",
      "Dados do ano 1998 extraídos com sucesso.\n",
      "Dados do ano 1999 extraídos com sucesso.\n",
      "Dados do ano 2000 extraídos com sucesso.\n",
      "Dados do ano 2001 extraídos com sucesso.\n",
      "Dados do ano 2002 extraídos com sucesso.\n",
      "Dados do ano 2003 extraídos com sucesso.\n",
      "Dados do ano 2004 extraídos com sucesso.\n",
      "Dados do ano 2005 extraídos com sucesso.\n",
      "Dados do ano 2006 extraídos com sucesso.\n",
      "Dados do ano 2007 extraídos com sucesso.\n",
      "Dados do ano 2008 extraídos com sucesso.\n",
      "Dados do ano 2009 extraídos com sucesso.\n",
      "Dados do ano 2010 extraídos com sucesso.\n",
      "Dados do ano 2011 extraídos com sucesso.\n",
      "Dados do ano 2012 extraídos com sucesso.\n",
      "Dados do ano 2013 extraídos com sucesso.\n",
      "Dados do ano 2014 extraídos com sucesso.\n",
      "Dados do ano 2015 extraídos com sucesso.\n",
      "Dados do ano 2016 extraídos com sucesso.\n",
      "Dados do ano 2017 extraídos com sucesso.\n",
      "Dados do ano 2018 extraídos com sucesso.\n",
      "Dados do ano 2019 extraídos com sucesso.\n",
      "Dados do ano 2020 extraídos com sucesso.\n",
      "Dados do ano 2021 extraídos com sucesso.\n",
      "Dados do ano 2022 extraídos com sucesso.\n",
      "Dados do ano 2023 extraídos com sucesso.\n",
      "exportacao_espumantes\n",
      "16 registros inseridos com sucesso em exportacao_espumantes.\n",
      "Dados do ano 1970 extraídos com sucesso.\n",
      "Dados do ano 1971 extraídos com sucesso.\n",
      "Dados do ano 1972 extraídos com sucesso.\n",
      "Dados do ano 1973 extraídos com sucesso.\n",
      "Dados do ano 1974 extraídos com sucesso.\n",
      "Dados do ano 1975 extraídos com sucesso.\n",
      "Dados do ano 1976 extraídos com sucesso.\n",
      "Dados do ano 1977 extraídos com sucesso.\n",
      "Dados do ano 1978 extraídos com sucesso.\n",
      "Dados do ano 1979 extraídos com sucesso.\n",
      "Dados do ano 1980 extraídos com sucesso.\n",
      "Dados do ano 1981 extraídos com sucesso.\n",
      "Dados do ano 1982 extraídos com sucesso.\n",
      "Dados do ano 1983 extraídos com sucesso.\n",
      "Dados do ano 1984 extraídos com sucesso.\n",
      "Dados do ano 1985 extraídos com sucesso.\n",
      "Dados do ano 1986 extraídos com sucesso.\n",
      "Dados do ano 1987 extraídos com sucesso.\n",
      "Dados do ano 1988 extraídos com sucesso.\n",
      "Dados do ano 1989 extraídos com sucesso.\n",
      "Dados do ano 1990 extraídos com sucesso.\n",
      "Dados do ano 1991 extraídos com sucesso.\n",
      "Dados do ano 1992 extraídos com sucesso.\n",
      "Dados do ano 1993 extraídos com sucesso.\n",
      "Dados do ano 1994 extraídos com sucesso.\n",
      "Dados do ano 1995 extraídos com sucesso.\n",
      "Dados do ano 1996 extraídos com sucesso.\n",
      "Dados do ano 1997 extraídos com sucesso.\n",
      "Dados do ano 1998 extraídos com sucesso.\n",
      "Dados do ano 1999 extraídos com sucesso.\n",
      "Dados do ano 2000 extraídos com sucesso.\n",
      "Dados do ano 2001 extraídos com sucesso.\n",
      "Dados do ano 2002 extraídos com sucesso.\n",
      "Dados do ano 2003 extraídos com sucesso.\n",
      "Dados do ano 2004 extraídos com sucesso.\n",
      "Dados do ano 2005 extraídos com sucesso.\n",
      "Dados do ano 2006 extraídos com sucesso.\n",
      "Dados do ano 2007 extraídos com sucesso.\n",
      "Dados do ano 2008 extraídos com sucesso.\n",
      "Dados do ano 2009 extraídos com sucesso.\n",
      "Dados do ano 2010 extraídos com sucesso.\n",
      "Dados do ano 2011 extraídos com sucesso.\n",
      "Dados do ano 2012 extraídos com sucesso.\n",
      "Dados do ano 2013 extraídos com sucesso.\n",
      "Dados do ano 2014 extraídos com sucesso.\n",
      "Dados do ano 2015 extraídos com sucesso.\n",
      "Dados do ano 2016 extraídos com sucesso.\n",
      "Dados do ano 2017 extraídos com sucesso.\n",
      "Dados do ano 2018 extraídos com sucesso.\n",
      "Dados do ano 2019 extraídos com sucesso.\n",
      "Dados do ano 2020 extraídos com sucesso.\n",
      "Dados do ano 2021 extraídos com sucesso.\n",
      "Dados do ano 2022 extraídos com sucesso.\n",
      "Dados do ano 2023 extraídos com sucesso.\n",
      "exportacao_uvas_frescas\n",
      "90 registros inseridos com sucesso em exportacao_uvas_frescas.\n",
      "Dados do ano 1970 extraídos com sucesso.\n",
      "Dados do ano 1971 extraídos com sucesso.\n",
      "Dados do ano 1972 extraídos com sucesso.\n",
      "Dados do ano 1973 extraídos com sucesso.\n",
      "Dados do ano 1974 extraídos com sucesso.\n",
      "Dados do ano 1975 extraídos com sucesso.\n",
      "Dados do ano 1976 extraídos com sucesso.\n",
      "Dados do ano 1977 extraídos com sucesso.\n",
      "Dados do ano 1978 extraídos com sucesso.\n",
      "Dados do ano 1979 extraídos com sucesso.\n",
      "Dados do ano 1980 extraídos com sucesso.\n",
      "Dados do ano 1981 extraídos com sucesso.\n",
      "Dados do ano 1982 extraídos com sucesso.\n",
      "Dados do ano 1983 extraídos com sucesso.\n",
      "Dados do ano 1984 extraídos com sucesso.\n",
      "Dados do ano 1985 extraídos com sucesso.\n",
      "Dados do ano 1986 extraídos com sucesso.\n",
      "Dados do ano 1987 extraídos com sucesso.\n",
      "Dados do ano 1988 extraídos com sucesso.\n",
      "Dados do ano 1989 extraídos com sucesso.\n",
      "Dados do ano 1990 extraídos com sucesso.\n",
      "Dados do ano 1991 extraídos com sucesso.\n",
      "Dados do ano 1992 extraídos com sucesso.\n",
      "Dados do ano 1993 extraídos com sucesso.\n",
      "Dados do ano 1994 extraídos com sucesso.\n",
      "Dados do ano 1995 extraídos com sucesso.\n",
      "Dados do ano 1996 extraídos com sucesso.\n",
      "Dados do ano 1997 extraídos com sucesso.\n",
      "Dados do ano 1998 extraídos com sucesso.\n",
      "Dados do ano 1999 extraídos com sucesso.\n",
      "Dados do ano 2000 extraídos com sucesso.\n",
      "Dados do ano 2001 extraídos com sucesso.\n",
      "Dados do ano 2002 extraídos com sucesso.\n",
      "Dados do ano 2003 extraídos com sucesso.\n",
      "Dados do ano 2004 extraídos com sucesso.\n",
      "Dados do ano 2005 extraídos com sucesso.\n",
      "Dados do ano 2006 extraídos com sucesso.\n",
      "Dados do ano 2007 extraídos com sucesso.\n",
      "Dados do ano 2008 extraídos com sucesso.\n",
      "Dados do ano 2009 extraídos com sucesso.\n",
      "Dados do ano 2010 extraídos com sucesso.\n",
      "Dados do ano 2011 extraídos com sucesso.\n",
      "Dados do ano 2012 extraídos com sucesso.\n",
      "Dados do ano 2013 extraídos com sucesso.\n",
      "Dados do ano 2014 extraídos com sucesso.\n",
      "Dados do ano 2015 extraídos com sucesso.\n",
      "Dados do ano 2016 extraídos com sucesso.\n",
      "Dados do ano 2017 extraídos com sucesso.\n",
      "Dados do ano 2018 extraídos com sucesso.\n",
      "Dados do ano 2019 extraídos com sucesso.\n",
      "Dados do ano 2020 extraídos com sucesso.\n",
      "Dados do ano 2021 extraídos com sucesso.\n",
      "Dados do ano 2022 extraídos com sucesso.\n",
      "Dados do ano 2023 extraídos com sucesso.\n",
      "exportacao_suco_uva\n",
      "42 registros inseridos com sucesso em exportacao_suco_uva.\n"
     ]
    }
   ],
   "source": [
    "extract_and_save_all_data(dbname, user, password, host, port, URL_TEMPLATES, START_YEAR, END_YEAR)"
   ]
  }
 ],
 "metadata": {
  "kernelspec": {
   "display_name": "base",
   "language": "python",
   "name": "python3"
  },
  "language_info": {
   "codemirror_mode": {
    "name": "ipython",
    "version": 3
   },
   "file_extension": ".py",
   "mimetype": "text/x-python",
   "name": "python",
   "nbconvert_exporter": "python",
   "pygments_lexer": "ipython3",
   "version": "3.11.9"
  }
 },
 "nbformat": 4,
 "nbformat_minor": 2
}
